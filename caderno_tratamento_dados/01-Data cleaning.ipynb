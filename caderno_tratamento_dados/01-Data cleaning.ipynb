{
 "cells": [
  {
   "cell_type": "code",
   "execution_count": 4,
   "metadata": {},
   "outputs": [],
   "source": [
    "from glob import glob\n",
    "import json\n",
    "import pandas as pd\n",
    "from tqdm.auto import tqdm\n",
    "from datetime import datetime, timedelta\n",
    "import numpy as np\n",
    "import concurrent.futures\n",
    "import random\n",
    "import gc"
   ]
  },
  {
   "cell_type": "code",
   "execution_count": 5,
   "metadata": {},
   "outputs": [],
   "source": [
    "pd.set_option('max_columns', 100)\n",
    "pd.set_option('max_rows', 100)"
   ]
  },
  {
   "cell_type": "code",
   "execution_count": 9,
   "metadata": {},
   "outputs": [],
   "source": [
    "arquivos = glob('data/justica_trabalho/*/*.json')\n",
    "arquivos += glob('data/justica_estadual/*/*.json')\n",
    "arquivos += glob('data/justica_federal/*/*.json')"
   ]
  },
  {
   "cell_type": "code",
   "execution_count": 10,
   "metadata": {},
   "outputs": [],
   "source": [
    "classes = pd.read_csv('data/sgt_classes.csv', sep=';')"
   ]
  },
  {
   "cell_type": "code",
   "execution_count": 11,
   "metadata": {},
   "outputs": [
    {
     "data": {
      "text/plain": [
       "(104,\n",
       " ['Discriminatória',\n",
       "  'PROCESSO CRIMINAL',\n",
       "  'Representação Criminal',\n",
       "  'Representação Criminal/Notícia de Crime',\n",
       "  'Pedido de Arquivamento em Representação Criminal',\n",
       "  'Restauração de Autos Criminal',\n",
       "  'Procedimento do Juizado Especial Criminal - Sumariíssimo',\n",
       "  'Habeas Corpus Criminal',\n",
       "  'Pedido de Busca e Apreensão Criminal',\n",
       "  'Medidas Investigatórias Sobre Organizações Criminosas',\n",
       "  'Embargos de Terceiro Criminal',\n",
       "  'Carta de Ordem Criminal',\n",
       "  'Carta Precatória Criminal',\n",
       "  'Carta Rogatória Criminal',\n",
       "  'Apelação Criminal',\n",
       "  'Correição Parcial Criminal',\n",
       "  'Embargos de Declaração Criminal',\n",
       "  'Recurso de Medida Cautelar Criminal',\n",
       "  'Recurso de Sentença Criminal',\n",
       "  'Remessa Necessária Criminal',\n",
       "  'Revisão Criminal',\n",
       "  'Incidente de Arguição de Inconstitucionalidade Criminal',\n",
       "  'Medidas Protetivas de urgência (Lei Maria da Penha) Criminal',\n",
       "  'Recurso Criminal',\n",
       "  'Revisão Criminal',\n",
       "  'Apelação Criminal',\n",
       "  'Revisão Criminal',\n",
       "  'Mandado de Segurança Criminal',\n",
       "  'Petição Criminal',\n",
       "  'Agravo Regimental Criminal',\n",
       "  'Recurso Ordinário Criminal',\n",
       "  'Procedimento Investigatório Criminal (PIC-MP) ',\n",
       "  'Medidas Protetivas - Estatuto do Idoso Criminal ',\n",
       "  'PROCESSO CRIMINAL',\n",
       "  'Exibição de Documento ou Coisa Criminal',\n",
       "  'Pedido de Uniformização de Interpretação de Lei Criminal',\n",
       "  'Produção Antecipada de Provas Criminal',\n",
       "  'Processo de Aplicação de Medida de Segurança Por Fato Não Criminoso',\n",
       "  'Cautelar Inominada Criminal',\n",
       "  'Reclamação Criminal',\n",
       "  'Revisão Criminal',\n",
       "  'Ação Penal de Competência do Júri',\n",
       "  'Ação Penal - Procedimento Ordinário',\n",
       "  'Processo Especial do Código de Processo Penal',\n",
       "  'EXECUÇÃO PENAL E DE MEDIDAS ALTERNATIVAS',\n",
       "  'Agravo de Execução Penal',\n",
       "  'Ação Penal',\n",
       "  'Ação Penal',\n",
       "  'Ação Penal - Procedimento Sumário',\n",
       "  'Ação Penal - Procedimento Sumaríssimo',\n",
       "  'Ação Penal Militar - Procedimento Ordinário',\n",
       "  'Embargos em Ação Penal Militar',\n",
       "  'Ação Penal Eleitoral',\n",
       "  'Renovação de Permanência em Estabelecimento Penal Federal',\n",
       "  'Auto de Prisão em Flagrante',\n",
       "  'Relaxamento de Prisão',\n",
       "  'Pedido de Prisão',\n",
       "  'Pedido de Prisão Preventiva',\n",
       "  'Pedido de Prisão Temporária',\n",
       "  'Pedido de Prisão/ Liberdade Vigiada para Fins de Expulsão',\n",
       "  'Prisão Preventiva para Extradição',\n",
       "  'Auto de Prisão',\n",
       "  'Termo Circunstanciado',\n",
       "  'Boletim de Ocorrência Circunstanciada',\n",
       "  'Ação Penal de Competência do Júri',\n",
       "  'Ação Penal - Procedimento Ordinário',\n",
       "  'Processo Especial do Código de Processo Penal',\n",
       "  'EXECUÇÃO PENAL E DE MEDIDAS ALTERNATIVAS',\n",
       "  'Execução da Pena',\n",
       "  'Conversão de Pena',\n",
       "  'Comutação de Pena',\n",
       "  'Agravo de Execução Penal',\n",
       "  'Ação Penal',\n",
       "  'Unificação de penas',\n",
       "  'Transferência entre estabelecimentos penais',\n",
       "  'Ação Penal',\n",
       "  'Ação Penal - Procedimento Sumário',\n",
       "  'Ação Penal - Procedimento Sumaríssimo',\n",
       "  'Ação Penal Militar - Procedimento Ordinário',\n",
       "  'Embargos em Ação Penal Militar',\n",
       "  'Ação Penal Eleitoral',\n",
       "  'Remição de Pena',\n",
       "  'Renovação de Permanência em Estabelecimento Penal Federal',\n",
       "  'Roteiro de Pena',\n",
       "  'Roteiro de Pena',\n",
       "  'Execução de Pena de Multa',\n",
       "  'Transferência Entre Estabelecimentos Penais',\n",
       "  'Execução de Pena',\n",
       "  'Notícia-Crime',\n",
       "  'Representação Criminal/Notícia de Crime',\n",
       "  'Crimes de Responsabilidade dos Funcionários Públicos',\n",
       "  'Crimes de Calúnia, Injúria e Difamação de Competência do Juiz Singular',\n",
       "  'Crimes Contra a Propriedade Imaterial',\n",
       "  'Crimes Ambientais',\n",
       "  'Crimes Contra a Propriedade Industrial',\n",
       "  'Crimes Contra a Propriedade Intelectual',\n",
       "  'Crimes de Imprensa',\n",
       "  'Procedimento Especial dos Crimes de Abuso de Autoridade',\n",
       "  'Processo Crime',\n",
       "  'Queixa Crime',\n",
       "  'Inquérito Policial',\n",
       "  'Inquérito Policial',\n",
       "  'Inquérito Policial Especial',\n",
       "  'Inquérito Policial Militar'])"
      ]
     },
     "execution_count": 11,
     "metadata": {},
     "output_type": "execute_result"
    }
   ],
   "source": [
    "criminal = [i for i in classes.descricao.values if 'crimin' in i.lower()]\n",
    "criminal += [i for i in classes.descricao.values if 'penal' in i.lower()]\n",
    "criminal += [i for i in classes.descricao.values if 'pris' in i.lower()]\n",
    "criminal += [i for i in classes.descricao.values if 'circuns' in i.lower()]\n",
    "criminal += [i for i in classes.descricao.values if 'pena' in i.lower()]\n",
    "criminal += [i for i in classes.descricao.values if 'crime' in i.lower()]\n",
    "criminal += [i for i in classes.descricao.values if 'policia' in i.lower()]\n",
    "len(criminal), criminal\n"
   ]
  },
  {
   "cell_type": "code",
   "execution_count": 12,
   "metadata": {},
   "outputs": [],
   "source": [
    "misc = [i for i in classes.descricao.values if 'alv' in i.lower()]"
   ]
  },
  {
   "cell_type": "code",
   "execution_count": 13,
   "metadata": {},
   "outputs": [
    {
     "data": {
      "text/plain": [
       "['Cautelar Fiscal',\n",
       " 'Embargos Infringentes na Execução Fiscal',\n",
       " 'Execução Fiscal',\n",
       " 'Embargos à Execução Fiscal']"
      ]
     },
     "execution_count": 13,
     "metadata": {},
     "output_type": "execute_result"
    }
   ],
   "source": [
    "fiscal = [i for i in classes.descricao.values if 'fiscal' in i.lower()]\n",
    "fiscal.remove('Organização e Fiscalização de Fundação')\n",
    "fiscal"
   ]
  },
  {
   "cell_type": "code",
   "execution_count": 14,
   "metadata": {},
   "outputs": [
    {
     "data": {
      "text/plain": [
       "[1033, 11788, 11791, 11793, 11798]"
      ]
     },
     "execution_count": 14,
     "metadata": {},
     "output_type": "execute_result"
    }
   ],
   "source": [
    "remover = criminal + fiscal + misc\n",
    "EXCLUIR = classes[classes.descricao.isin(remover)].codigo.values.tolist()\n",
    "EXCLUIR += [283, 1116, 994, 159, 197, 282, 172, 300 ]\n",
    "EXCLUIR = list(set(EXCLUIR))\n",
    "EXCLUIR[:5]"
   ]
  },
  {
   "cell_type": "code",
   "execution_count": null,
   "metadata": {},
   "outputs": [],
   "source": []
  },
  {
   "cell_type": "code",
   "execution_count": 15,
   "metadata": {},
   "outputs": [],
   "source": [
    "def ano2(n_processo):\n",
    "    if len(str(n_processo)) == 20:\n",
    "        return int(str(n_processo)[9:13])\n",
    "    else:\n",
    "        print(n_processo)\n",
    "        \n",
    "def ano_ok(row):\n",
    "    ano_ajuizamento = int(row.ano_ajuizamento)\n",
    "    ano_numero = int(row.ano_numero)\n",
    "    if ano_ajuizamento == ano_numero:\n",
    "        return ano_ajuizamento\n",
    "    lista_anos = [int(ano_ajuizamento), int(ano_numero)]\n",
    "    lista_anos = [i for i in lista_anos if i > 1990]\n",
    "    lista_anos = [i for i in lista_anos if i < 2021]\n",
    "    if len(lista_anos) == 1:\n",
    "        return lista_anos[0]\n",
    "    elif len(lista_anos) == 0:\n",
    "        return -1\n",
    "    else:\n",
    "        return max(lista_anos)"
   ]
  },
  {
   "cell_type": "code",
   "execution_count": 16,
   "metadata": {},
   "outputs": [],
   "source": [
    "def get_clean_dataframes(arquivo):\n",
    "    try:\n",
    "        with open(arquivo) as f:\n",
    "            data = json.load(f)\n",
    "        df = pd.json_normalize(data)\n",
    "        #print(df.shape)\n",
    "        df.drop('millisInsercao', axis=1, inplace=True)\n",
    "        df['ano_ajuizamento'] = df['dadosBasicos.dataAjuizamento'].apply(lambda x: str(x)[:4])\n",
    "        df['ano_numero'] = df['dadosBasicos.numero'].apply(ano2)\n",
    "        df['ano_ok'] = df.apply(ano_ok, axis=1)\n",
    "        df = df[df['ano_ok'] >= 2010]\n",
    "        df = df[~df['dadosBasicos.classeProcessual'].isin(EXCLUIR)]\n",
    "        df = df[df.grau.isin(['G1', 'JE'])]\n",
    "    except Exception as e:\n",
    "        print(e, arquivo)\n",
    "        return None\n",
    "    gc.collect()\n",
    "    return df"
   ]
  },
  {
   "cell_type": "code",
   "execution_count": 17,
   "metadata": {},
   "outputs": [
    {
     "data": {
      "application/vnd.jupyter.widget-view+json": {
       "model_id": "ca41a97d80b445af84fe216176a803e2",
       "version_major": 2,
       "version_minor": 0
      },
      "text/plain": [
       "HBox(children=(FloatProgress(value=0.0, max=517.0), HTML(value='')))"
      ]
     },
     "metadata": {},
     "output_type": "display_data"
    },
    {
     "name": "stdout",
     "output_type": "stream",
     "text": [
      "\n"
     ]
    }
   ],
   "source": [
    "with concurrent.futures.ProcessPoolExecutor(max_workers=28) as fut:\n",
    "     dataframes = list(tqdm(fut.map(get_clean_dataframes, arquivos), total=len(arquivos)))\n"
   ]
  },
  {
   "cell_type": "code",
   "execution_count": 18,
   "metadata": {},
   "outputs": [
    {
     "name": "stdout",
     "output_type": "stream",
     "text": [
      "517\n",
      "517\n"
     ]
    }
   ],
   "source": [
    "print(len(dataframes))\n",
    "dataframes = [i for i in dataframes if i is not None]\n",
    "print(len(dataframes))"
   ]
  },
  {
   "cell_type": "code",
   "execution_count": 19,
   "metadata": {},
   "outputs": [],
   "source": [
    "df = pd.concat(dataframes)"
   ]
  },
  {
   "cell_type": "code",
   "execution_count": 20,
   "metadata": {},
   "outputs": [
    {
     "data": {
      "text/html": [
       "<div>\n",
       "<style scoped>\n",
       "    .dataframe tbody tr th:only-of-type {\n",
       "        vertical-align: middle;\n",
       "    }\n",
       "\n",
       "    .dataframe tbody tr th {\n",
       "        vertical-align: top;\n",
       "    }\n",
       "\n",
       "    .dataframe thead th {\n",
       "        text-align: right;\n",
       "    }\n",
       "</style>\n",
       "<table border=\"1\" class=\"dataframe\">\n",
       "  <thead>\n",
       "    <tr style=\"text-align: right;\">\n",
       "      <th></th>\n",
       "      <th>siglaTribunal</th>\n",
       "      <th>movimento</th>\n",
       "      <th>grau</th>\n",
       "      <th>dadosBasicos.valorCausa</th>\n",
       "      <th>dadosBasicos.numero</th>\n",
       "      <th>dadosBasicos.procEl</th>\n",
       "      <th>dadosBasicos.competencia</th>\n",
       "      <th>dadosBasicos.codigoLocalidade</th>\n",
       "      <th>dadosBasicos.assunto</th>\n",
       "      <th>dadosBasicos.dscSistema</th>\n",
       "      <th>dadosBasicos.tamanhoProcesso</th>\n",
       "      <th>dadosBasicos.dataAjuizamento</th>\n",
       "      <th>dadosBasicos.totalAssuntos</th>\n",
       "      <th>dadosBasicos.nivelSigilo</th>\n",
       "      <th>dadosBasicos.classeProcessual</th>\n",
       "      <th>dadosBasicos.orgaoJulgador.nomeOrgao</th>\n",
       "      <th>dadosBasicos.orgaoJulgador.codigoMunicipioIBGE</th>\n",
       "      <th>dadosBasicos.orgaoJulgador.codigoOrgao</th>\n",
       "      <th>dadosBasicos.orgaoJulgador.instancia</th>\n",
       "      <th>ano_ajuizamento</th>\n",
       "      <th>ano_numero</th>\n",
       "      <th>ano_ok</th>\n",
       "      <th>dadosBasicos.assunto.assuntoLocal.codigoAssunto</th>\n",
       "      <th>dadosBasicos.assunto.assuntoLocal.codigoPaiNacional</th>\n",
       "      <th>dadosBasicos.assunto.assuntoLocal.descricao</th>\n",
       "      <th>movimento.identificadorMovimento</th>\n",
       "      <th>movimento.xmlns</th>\n",
       "      <th>movimento.movimentoLocal.codigoMovimento</th>\n",
       "      <th>movimento.movimentoLocal.codigoPaiNacional</th>\n",
       "      <th>movimento.dataHora</th>\n",
       "    </tr>\n",
       "  </thead>\n",
       "  <tbody>\n",
       "    <tr>\n",
       "      <th>0</th>\n",
       "      <td>TRT4</td>\n",
       "      <td>[{'identificadorMovimento': '52034597', 'tipoR...</td>\n",
       "      <td>G1</td>\n",
       "      <td>35300.00</td>\n",
       "      <td>00202133320205040020</td>\n",
       "      <td>1.0</td>\n",
       "      <td>NaN</td>\n",
       "      <td>4314902</td>\n",
       "      <td>[{'principal': True, 'assuntoLocal': None, 'co...</td>\n",
       "      <td>1</td>\n",
       "      <td>NaN</td>\n",
       "      <td>20200318002109</td>\n",
       "      <td>10.0</td>\n",
       "      <td>0</td>\n",
       "      <td>1125</td>\n",
       "      <td>20ª Porto Alegre</td>\n",
       "      <td>4314902</td>\n",
       "      <td>46964</td>\n",
       "      <td>ORIG</td>\n",
       "      <td>2020</td>\n",
       "      <td>2020</td>\n",
       "      <td>2020</td>\n",
       "      <td>NaN</td>\n",
       "      <td>NaN</td>\n",
       "      <td>NaN</td>\n",
       "      <td>NaN</td>\n",
       "      <td>NaN</td>\n",
       "      <td>NaN</td>\n",
       "      <td>NaN</td>\n",
       "      <td>NaN</td>\n",
       "    </tr>\n",
       "    <tr>\n",
       "      <th>1</th>\n",
       "      <td>TRT4</td>\n",
       "      <td>[{'identificadorMovimento': '52036527', 'tipoR...</td>\n",
       "      <td>G1</td>\n",
       "      <td>97000.00</td>\n",
       "      <td>00202875720205040030</td>\n",
       "      <td>1.0</td>\n",
       "      <td>NaN</td>\n",
       "      <td>4314902</td>\n",
       "      <td>[{'principal': False, 'assuntoLocal': None, 'c...</td>\n",
       "      <td>1</td>\n",
       "      <td>NaN</td>\n",
       "      <td>20200318002308</td>\n",
       "      <td>8.0</td>\n",
       "      <td>0</td>\n",
       "      <td>985</td>\n",
       "      <td>30ª Porto Alegre</td>\n",
       "      <td>4314902</td>\n",
       "      <td>46974</td>\n",
       "      <td>ORIG</td>\n",
       "      <td>2020</td>\n",
       "      <td>2020</td>\n",
       "      <td>2020</td>\n",
       "      <td>NaN</td>\n",
       "      <td>NaN</td>\n",
       "      <td>NaN</td>\n",
       "      <td>NaN</td>\n",
       "      <td>NaN</td>\n",
       "      <td>NaN</td>\n",
       "      <td>NaN</td>\n",
       "      <td>NaN</td>\n",
       "    </tr>\n",
       "    <tr>\n",
       "      <th>2</th>\n",
       "      <td>TRT4</td>\n",
       "      <td>[{'identificadorMovimento': '52041238', 'tipoR...</td>\n",
       "      <td>G1</td>\n",
       "      <td>14244.46</td>\n",
       "      <td>00202360920205040204</td>\n",
       "      <td>1.0</td>\n",
       "      <td>NaN</td>\n",
       "      <td>4304606</td>\n",
       "      <td>[{'principal': False, 'assuntoLocal': None, 'c...</td>\n",
       "      <td>1</td>\n",
       "      <td>NaN</td>\n",
       "      <td>20200318010510</td>\n",
       "      <td>5.0</td>\n",
       "      <td>0</td>\n",
       "      <td>985</td>\n",
       "      <td>4ª Canoas</td>\n",
       "      <td>4304606</td>\n",
       "      <td>46894</td>\n",
       "      <td>ORIG</td>\n",
       "      <td>2020</td>\n",
       "      <td>2020</td>\n",
       "      <td>2020</td>\n",
       "      <td>NaN</td>\n",
       "      <td>NaN</td>\n",
       "      <td>NaN</td>\n",
       "      <td>NaN</td>\n",
       "      <td>NaN</td>\n",
       "      <td>NaN</td>\n",
       "      <td>NaN</td>\n",
       "      <td>NaN</td>\n",
       "    </tr>\n",
       "    <tr>\n",
       "      <th>14</th>\n",
       "      <td>TRT4</td>\n",
       "      <td>[{'identificadorMovimento': '52041704', 'tipoR...</td>\n",
       "      <td>G1</td>\n",
       "      <td>10000.00</td>\n",
       "      <td>00201675020205040406</td>\n",
       "      <td>1.0</td>\n",
       "      <td>NaN</td>\n",
       "      <td>4305108</td>\n",
       "      <td>[{'principal': True, 'codigoNacional': 9163}]</td>\n",
       "      <td>1</td>\n",
       "      <td>NaN</td>\n",
       "      <td>20200318081723</td>\n",
       "      <td>1.0</td>\n",
       "      <td>0</td>\n",
       "      <td>37</td>\n",
       "      <td>6ª Caxias do Sul</td>\n",
       "      <td>4305108</td>\n",
       "      <td>46902</td>\n",
       "      <td>ORIG</td>\n",
       "      <td>2020</td>\n",
       "      <td>2020</td>\n",
       "      <td>2020</td>\n",
       "      <td>NaN</td>\n",
       "      <td>NaN</td>\n",
       "      <td>NaN</td>\n",
       "      <td>NaN</td>\n",
       "      <td>NaN</td>\n",
       "      <td>NaN</td>\n",
       "      <td>NaN</td>\n",
       "      <td>NaN</td>\n",
       "    </tr>\n",
       "    <tr>\n",
       "      <th>16</th>\n",
       "      <td>TRT4</td>\n",
       "      <td>[{'identificadorMovimento': '52041887', 'tipoR...</td>\n",
       "      <td>G1</td>\n",
       "      <td>15000.00</td>\n",
       "      <td>00201019320205040851</td>\n",
       "      <td>1.0</td>\n",
       "      <td>NaN</td>\n",
       "      <td>4317103</td>\n",
       "      <td>[{'principal': True, 'assuntoLocal': None, 'co...</td>\n",
       "      <td>1</td>\n",
       "      <td>NaN</td>\n",
       "      <td>20200318083036</td>\n",
       "      <td>2.0</td>\n",
       "      <td>0</td>\n",
       "      <td>193</td>\n",
       "      <td>VT Santana do Livramento</td>\n",
       "      <td>4317103</td>\n",
       "      <td>46985</td>\n",
       "      <td>ORIG</td>\n",
       "      <td>2020</td>\n",
       "      <td>2020</td>\n",
       "      <td>2020</td>\n",
       "      <td>NaN</td>\n",
       "      <td>NaN</td>\n",
       "      <td>NaN</td>\n",
       "      <td>NaN</td>\n",
       "      <td>NaN</td>\n",
       "      <td>NaN</td>\n",
       "      <td>NaN</td>\n",
       "      <td>NaN</td>\n",
       "    </tr>\n",
       "  </tbody>\n",
       "</table>\n",
       "</div>"
      ],
      "text/plain": [
       "   siglaTribunal                                          movimento grau  \\\n",
       "0           TRT4  [{'identificadorMovimento': '52034597', 'tipoR...   G1   \n",
       "1           TRT4  [{'identificadorMovimento': '52036527', 'tipoR...   G1   \n",
       "2           TRT4  [{'identificadorMovimento': '52041238', 'tipoR...   G1   \n",
       "14          TRT4  [{'identificadorMovimento': '52041704', 'tipoR...   G1   \n",
       "16          TRT4  [{'identificadorMovimento': '52041887', 'tipoR...   G1   \n",
       "\n",
       "    dadosBasicos.valorCausa   dadosBasicos.numero  dadosBasicos.procEl  \\\n",
       "0                  35300.00  00202133320205040020                  1.0   \n",
       "1                  97000.00  00202875720205040030                  1.0   \n",
       "2                  14244.46  00202360920205040204                  1.0   \n",
       "14                 10000.00  00201675020205040406                  1.0   \n",
       "16                 15000.00  00201019320205040851                  1.0   \n",
       "\n",
       "   dadosBasicos.competencia dadosBasicos.codigoLocalidade  \\\n",
       "0                       NaN                       4314902   \n",
       "1                       NaN                       4314902   \n",
       "2                       NaN                       4304606   \n",
       "14                      NaN                       4305108   \n",
       "16                      NaN                       4317103   \n",
       "\n",
       "                                 dadosBasicos.assunto dadosBasicos.dscSistema  \\\n",
       "0   [{'principal': True, 'assuntoLocal': None, 'co...                       1   \n",
       "1   [{'principal': False, 'assuntoLocal': None, 'c...                       1   \n",
       "2   [{'principal': False, 'assuntoLocal': None, 'c...                       1   \n",
       "14      [{'principal': True, 'codigoNacional': 9163}]                       1   \n",
       "16  [{'principal': True, 'assuntoLocal': None, 'co...                       1   \n",
       "\n",
       "   dadosBasicos.tamanhoProcesso dadosBasicos.dataAjuizamento  \\\n",
       "0                           NaN               20200318002109   \n",
       "1                           NaN               20200318002308   \n",
       "2                           NaN               20200318010510   \n",
       "14                          NaN               20200318081723   \n",
       "16                          NaN               20200318083036   \n",
       "\n",
       "    dadosBasicos.totalAssuntos  dadosBasicos.nivelSigilo  \\\n",
       "0                         10.0                         0   \n",
       "1                          8.0                         0   \n",
       "2                          5.0                         0   \n",
       "14                         1.0                         0   \n",
       "16                         2.0                         0   \n",
       "\n",
       "    dadosBasicos.classeProcessual dadosBasicos.orgaoJulgador.nomeOrgao  \\\n",
       "0                            1125                     20ª Porto Alegre   \n",
       "1                             985                     30ª Porto Alegre   \n",
       "2                             985                            4ª Canoas   \n",
       "14                             37                     6ª Caxias do Sul   \n",
       "16                            193             VT Santana do Livramento   \n",
       "\n",
       "    dadosBasicos.orgaoJulgador.codigoMunicipioIBGE  \\\n",
       "0                                          4314902   \n",
       "1                                          4314902   \n",
       "2                                          4304606   \n",
       "14                                         4305108   \n",
       "16                                         4317103   \n",
       "\n",
       "   dadosBasicos.orgaoJulgador.codigoOrgao  \\\n",
       "0                                   46964   \n",
       "1                                   46974   \n",
       "2                                   46894   \n",
       "14                                  46902   \n",
       "16                                  46985   \n",
       "\n",
       "   dadosBasicos.orgaoJulgador.instancia ano_ajuizamento  ano_numero  ano_ok  \\\n",
       "0                                  ORIG            2020        2020    2020   \n",
       "1                                  ORIG            2020        2020    2020   \n",
       "2                                  ORIG            2020        2020    2020   \n",
       "14                                 ORIG            2020        2020    2020   \n",
       "16                                 ORIG            2020        2020    2020   \n",
       "\n",
       "    dadosBasicos.assunto.assuntoLocal.codigoAssunto  \\\n",
       "0                                               NaN   \n",
       "1                                               NaN   \n",
       "2                                               NaN   \n",
       "14                                              NaN   \n",
       "16                                              NaN   \n",
       "\n",
       "    dadosBasicos.assunto.assuntoLocal.codigoPaiNacional  \\\n",
       "0                                                 NaN     \n",
       "1                                                 NaN     \n",
       "2                                                 NaN     \n",
       "14                                                NaN     \n",
       "16                                                NaN     \n",
       "\n",
       "   dadosBasicos.assunto.assuntoLocal.descricao  \\\n",
       "0                                          NaN   \n",
       "1                                          NaN   \n",
       "2                                          NaN   \n",
       "14                                         NaN   \n",
       "16                                         NaN   \n",
       "\n",
       "   movimento.identificadorMovimento movimento.xmlns  \\\n",
       "0                               NaN             NaN   \n",
       "1                               NaN             NaN   \n",
       "2                               NaN             NaN   \n",
       "14                              NaN             NaN   \n",
       "16                              NaN             NaN   \n",
       "\n",
       "    movimento.movimentoLocal.codigoMovimento  \\\n",
       "0                                        NaN   \n",
       "1                                        NaN   \n",
       "2                                        NaN   \n",
       "14                                       NaN   \n",
       "16                                       NaN   \n",
       "\n",
       "    movimento.movimentoLocal.codigoPaiNacional  movimento.dataHora  \n",
       "0                                          NaN                 NaN  \n",
       "1                                          NaN                 NaN  \n",
       "2                                          NaN                 NaN  \n",
       "14                                         NaN                 NaN  \n",
       "16                                         NaN                 NaN  "
      ]
     },
     "execution_count": 20,
     "metadata": {},
     "output_type": "execute_result"
    }
   ],
   "source": [
    "df.head()"
   ]
  },
  {
   "cell_type": "code",
   "execution_count": 21,
   "metadata": {},
   "outputs": [
    {
     "data": {
      "text/plain": [
       "TRT11    0.030216\n",
       "TJRO     0.025852\n",
       "TRT16    0.024483\n",
       "TJMG     0.024256\n",
       "TJAM     0.023877\n",
       "TRT8     0.022418\n",
       "TRT15    0.022415\n",
       "TRT7     0.022233\n",
       "TRT10    0.021995\n",
       "TRT14    0.021662\n",
       "TRT12    0.020883\n",
       "TRT18    0.020134\n",
       "TRT6     0.020118\n",
       "TJRN     0.020107\n",
       "TRT2     0.020016\n",
       "TJMT     0.019944\n",
       "TRT4     0.019813\n",
       "TJRS     0.019813\n",
       "TRT5     0.019803\n",
       "TRF5     0.019449\n",
       "TJGO     0.019441\n",
       "TRT1     0.019402\n",
       "TJSC     0.019147\n",
       "TRT17    0.019030\n",
       "TJAP     0.018883\n",
       "TJTO     0.018637\n",
       "TJRR     0.018199\n",
       "TRT3     0.018112\n",
       "TRT21    0.018007\n",
       "TRT13    0.017680\n",
       "TJSE     0.017598\n",
       "TJRJ     0.017585\n",
       "TJDFT    0.017448\n",
       "TJPI     0.017052\n",
       "TRT24    0.017005\n",
       "TJMS     0.016858\n",
       "TJBA     0.016740\n",
       "TRT22    0.016689\n",
       "TJSP     0.016615\n",
       "TJES     0.016434\n",
       "TJPA     0.016349\n",
       "TJPR     0.016193\n",
       "TRT20    0.015089\n",
       "TJMA     0.014799\n",
       "TJPE     0.014780\n",
       "TJPB     0.014661\n",
       "TJCE     0.014049\n",
       "TJAL     0.013967\n",
       "TRT9     0.013515\n",
       "TJAC     0.013498\n",
       "TRF4     0.013098\n",
       "TRT19    0.012658\n",
       "TRF2     0.011423\n",
       "TRF3     0.010467\n",
       "TRF1     0.009400\n",
       "TRT23    0.000003\n",
       "trt17    0.000001\n",
       "Name: siglaTribunal, dtype: float64"
      ]
     },
     "execution_count": 21,
     "metadata": {},
     "output_type": "execute_result"
    }
   ],
   "source": [
    "df.siglaTribunal.value_counts(normalize=True)"
   ]
  },
  {
   "cell_type": "code",
   "execution_count": 22,
   "metadata": {},
   "outputs": [],
   "source": [
    "df.siglaTribunal = df.siglaTribunal.str.upper()"
   ]
  },
  {
   "cell_type": "code",
   "execution_count": 23,
   "metadata": {},
   "outputs": [
    {
     "data": {
      "text/plain": [
       "(937621, 30)"
      ]
     },
     "execution_count": 23,
     "metadata": {},
     "output_type": "execute_result"
    }
   ],
   "source": [
    "df.shape"
   ]
  },
  {
   "cell_type": "code",
   "execution_count": 24,
   "metadata": {},
   "outputs": [],
   "source": [
    "movimentos = pd.read_csv('data/sgt_movimentos.csv', sep=';')"
   ]
  },
  {
   "cell_type": "code",
   "execution_count": 25,
   "metadata": {},
   "outputs": [
    {
     "data": {
      "text/plain": [
       "26"
      ]
     },
     "execution_count": 25,
     "metadata": {},
     "output_type": "execute_result"
    }
   ],
   "source": [
    "sentencas_1_grau = [\n",
    "     'Procedência',\n",
    "     'Improcedência',\n",
    "     'Procedência em Parte',\n",
    "     'Ausência de pressupostos processuais',\n",
    "     'Inadmissibilidade do procedimento sumaríssimo',\n",
    "     'Concessão de remissão a adolescente com exclusão do processo',\n",
    "     'Procedência do pedido e procedência do pedido contraposto',\n",
    "     'Procedência do pedido e procedência em parte do pedido contraposto',\n",
    "     'Procedência do pedido e improcedência do pedido contraposto',\n",
    "     'Procedência em parte do pedido e procedência do pedido contraposto',\n",
    "     'Procedência em parte do pedido e procedência em parte do pedido contraposto',\n",
    "     'Procedência em parte do pedido e improcedência do pedido contraposto',\n",
    "     'Improcedência do pedido e procedência do pedido contraposto',\n",
    "     'Improcedência do pedido e procedência em parte do pedido contraposto',\n",
    "     'Improcedência do pedido e improcedência do pedido contraposto',\n",
    "     'Procedência do Pedido - Reconhecimento pelo réu',\n",
    "     'Pedido conhecido em parte e procedente',\n",
    "     'Pedido conhecido em parte e procedente em parte',\n",
    "     'Pedido conhecido em parte e improcedente',\n",
    "     'Procedência',\n",
    "     'procedência parcial',\n",
    "     'improcedência',\n",
    "     'Não conhecimento do pedido', \n",
    "    'Julgamento',\n",
    "    'Homologado o Pedido',\n",
    "    'Homologação de Transação'\n",
    "]\n",
    "\n",
    "codigos_sentencas= movimentos[movimentos.descricao.isin(sentencas_1_grau)].codigo.values.tolist()\n",
    "len(codigos_sentencas)"
   ]
  },
  {
   "cell_type": "code",
   "execution_count": 26,
   "metadata": {},
   "outputs": [],
   "source": [
    "def get_data_primeira_sentenca(lista_movimentos):\n",
    "    if lista_movimentos in [None, np.nan]:\n",
    "        return 'SEM MOVIMENTO', -1\n",
    "    try:\n",
    "        datas = [i['dataHora'] for i in lista_movimentos]\n",
    "    except:\n",
    "        print(lista_movimentos)\n",
    "        raise\n",
    "    lista_movimentos = sorted(lista_movimentos, key=lambda k: k['dataHora']) \n",
    "    for val in lista_movimentos:\n",
    "        if 'movimentoNacional' in val.keys():\n",
    "            if val['movimentoNacional'] is not None:\n",
    "                if val['movimentoNacional']['codigoNacional'] in codigos_sentencas:\n",
    "                        return val['dataHora'], val['movimentoNacional']['codigoNacional']\n",
    "        if 'movimentoLocal' in val.keys():\n",
    "            if val['movimentoLocal'] is not None:\n",
    "                if val['movimentoLocal']['codigoPaiNacional'] in codigos_sentencas:\n",
    "                    return val['dataHora'], val['movimentoLocal']['codigoPaiNacional']\n",
    "    return 'SEM MOVIMENTO', -1"
   ]
  },
  {
   "cell_type": "code",
   "execution_count": 27,
   "metadata": {},
   "outputs": [],
   "source": [
    "datas_sentenca = df.movimento.apply(get_data_primeira_sentenca)\n",
    "df['data_primeira_sentenca'] = [i[0] for i in datas_sentenca.values]\n",
    "df['codigo_primeira_sentenca'] = [i[1] for i in datas_sentenca.values]\n"
   ]
  },
  {
   "cell_type": "code",
   "execution_count": 28,
   "metadata": {},
   "outputs": [],
   "source": [
    "df.reset_index(drop=True, inplace=True)"
   ]
  },
  {
   "cell_type": "code",
   "execution_count": 29,
   "metadata": {},
   "outputs": [
    {
     "data": {
      "text/html": [
       "<div>\n",
       "<style scoped>\n",
       "    .dataframe tbody tr th:only-of-type {\n",
       "        vertical-align: middle;\n",
       "    }\n",
       "\n",
       "    .dataframe tbody tr th {\n",
       "        vertical-align: top;\n",
       "    }\n",
       "\n",
       "    .dataframe thead th {\n",
       "        text-align: right;\n",
       "    }\n",
       "</style>\n",
       "<table border=\"1\" class=\"dataframe\">\n",
       "  <thead>\n",
       "    <tr style=\"text-align: right;\">\n",
       "      <th></th>\n",
       "      <th>siglaTribunal</th>\n",
       "      <th>movimento</th>\n",
       "      <th>grau</th>\n",
       "      <th>dadosBasicos.valorCausa</th>\n",
       "      <th>dadosBasicos.numero</th>\n",
       "      <th>dadosBasicos.procEl</th>\n",
       "      <th>dadosBasicos.competencia</th>\n",
       "      <th>dadosBasicos.codigoLocalidade</th>\n",
       "      <th>dadosBasicos.assunto</th>\n",
       "      <th>dadosBasicos.dscSistema</th>\n",
       "      <th>dadosBasicos.tamanhoProcesso</th>\n",
       "      <th>dadosBasicos.dataAjuizamento</th>\n",
       "      <th>dadosBasicos.totalAssuntos</th>\n",
       "      <th>dadosBasicos.nivelSigilo</th>\n",
       "      <th>dadosBasicos.classeProcessual</th>\n",
       "      <th>dadosBasicos.orgaoJulgador.nomeOrgao</th>\n",
       "      <th>dadosBasicos.orgaoJulgador.codigoMunicipioIBGE</th>\n",
       "      <th>dadosBasicos.orgaoJulgador.codigoOrgao</th>\n",
       "      <th>dadosBasicos.orgaoJulgador.instancia</th>\n",
       "      <th>ano_ajuizamento</th>\n",
       "      <th>ano_numero</th>\n",
       "      <th>ano_ok</th>\n",
       "      <th>dadosBasicos.assunto.assuntoLocal.codigoAssunto</th>\n",
       "      <th>dadosBasicos.assunto.assuntoLocal.codigoPaiNacional</th>\n",
       "      <th>dadosBasicos.assunto.assuntoLocal.descricao</th>\n",
       "      <th>movimento.identificadorMovimento</th>\n",
       "      <th>movimento.xmlns</th>\n",
       "      <th>movimento.movimentoLocal.codigoMovimento</th>\n",
       "      <th>movimento.movimentoLocal.codigoPaiNacional</th>\n",
       "      <th>movimento.dataHora</th>\n",
       "      <th>data_primeira_sentenca</th>\n",
       "      <th>codigo_primeira_sentenca</th>\n",
       "    </tr>\n",
       "  </thead>\n",
       "  <tbody>\n",
       "    <tr>\n",
       "      <th>276428</th>\n",
       "      <td>TRT14</td>\n",
       "      <td>[{'identificadorMovimento': '5066701', 'movime...</td>\n",
       "      <td>G1</td>\n",
       "      <td>5000.00</td>\n",
       "      <td>00006543820125140426</td>\n",
       "      <td>NaN</td>\n",
       "      <td>16</td>\n",
       "      <td>1200500</td>\n",
       "      <td>[{'principal': False, 'codigoNacional': 1998},...</td>\n",
       "      <td>NaN</td>\n",
       "      <td>2.06827e+06</td>\n",
       "      <td>1355277600000</td>\n",
       "      <td>NaN</td>\n",
       "      <td>0</td>\n",
       "      <td>985</td>\n",
       "      <td>VARA DO TRABALHO DE SENA MADUREIRA/AC</td>\n",
       "      <td>1200500</td>\n",
       "      <td>30404</td>\n",
       "      <td>ORIG</td>\n",
       "      <td>1355</td>\n",
       "      <td>2012</td>\n",
       "      <td>2012</td>\n",
       "      <td>NaN</td>\n",
       "      <td>NaN</td>\n",
       "      <td>NaN</td>\n",
       "      <td>NaN</td>\n",
       "      <td>NaN</td>\n",
       "      <td>NaN</td>\n",
       "      <td>NaN</td>\n",
       "      <td>NaN</td>\n",
       "      <td>SEM MOVIMENTO</td>\n",
       "      <td>-1</td>\n",
       "    </tr>\n",
       "    <tr>\n",
       "      <th>513135</th>\n",
       "      <td>TJGO</td>\n",
       "      <td>[{'movimentoNacional': {'codigoNacional': 3}, ...</td>\n",
       "      <td>G1</td>\n",
       "      <td>NaN</td>\n",
       "      <td>02352624820108090067</td>\n",
       "      <td>NaN</td>\n",
       "      <td>NaN</td>\n",
       "      <td>1909</td>\n",
       "      <td>[{'principal': True, 'codigoNacional': 8842}, ...</td>\n",
       "      <td>NaN</td>\n",
       "      <td>NaN</td>\n",
       "      <td>20100715000000</td>\n",
       "      <td>4.0</td>\n",
       "      <td>0</td>\n",
       "      <td>12154</td>\n",
       "      <td>1ª Vara (Cível, Criminal - crime em geral e ex...</td>\n",
       "      <td>1909</td>\n",
       "      <td>52647</td>\n",
       "      <td>ORIG</td>\n",
       "      <td>2010</td>\n",
       "      <td>2010</td>\n",
       "      <td>2010</td>\n",
       "      <td>NaN</td>\n",
       "      <td>NaN</td>\n",
       "      <td>NaN</td>\n",
       "      <td>NaN</td>\n",
       "      <td>NaN</td>\n",
       "      <td>NaN</td>\n",
       "      <td>NaN</td>\n",
       "      <td>NaN</td>\n",
       "      <td>SEM MOVIMENTO</td>\n",
       "      <td>-1</td>\n",
       "    </tr>\n",
       "    <tr>\n",
       "      <th>657791</th>\n",
       "      <td>TJRJ</td>\n",
       "      <td>[{'tipoResponsavelMovimento': 0, 'movimentoNac...</td>\n",
       "      <td>G1</td>\n",
       "      <td>NaN</td>\n",
       "      <td>00008262720108190016</td>\n",
       "      <td>NaN</td>\n",
       "      <td>NaN</td>\n",
       "      <td>3301207</td>\n",
       "      <td>[{'codigoAssunto': 30356, 'codigoPaiNacional':...</td>\n",
       "      <td>NaN</td>\n",
       "      <td>NaN</td>\n",
       "      <td>20100526000000</td>\n",
       "      <td>1.0</td>\n",
       "      <td>0</td>\n",
       "      <td>7</td>\n",
       "      <td>CARMO VARA UNICA</td>\n",
       "      <td>3301207</td>\n",
       "      <td>7977</td>\n",
       "      <td>ORIG</td>\n",
       "      <td>2010</td>\n",
       "      <td>2010</td>\n",
       "      <td>2010</td>\n",
       "      <td>NaN</td>\n",
       "      <td>NaN</td>\n",
       "      <td>NaN</td>\n",
       "      <td>NaN</td>\n",
       "      <td>NaN</td>\n",
       "      <td>NaN</td>\n",
       "      <td>NaN</td>\n",
       "      <td>NaN</td>\n",
       "      <td>SEM MOVIMENTO</td>\n",
       "      <td>-1</td>\n",
       "    </tr>\n",
       "    <tr>\n",
       "      <th>31366</th>\n",
       "      <td>TRT11</td>\n",
       "      <td>[{'identificadorMovimento': '7480799', 'movime...</td>\n",
       "      <td>G1</td>\n",
       "      <td>NaN</td>\n",
       "      <td>00003514720115110004</td>\n",
       "      <td>NaN</td>\n",
       "      <td>NaN</td>\n",
       "      <td>Manaus</td>\n",
       "      <td>[{'principal': False, 'codigoNacional': 2641}]</td>\n",
       "      <td>NaN</td>\n",
       "      <td>NaN</td>\n",
       "      <td>1298343600000</td>\n",
       "      <td>NaN</td>\n",
       "      <td>0</td>\n",
       "      <td>985</td>\n",
       "      <td>4ª Vara do Trabalho de Manaus</td>\n",
       "      <td>1302603</td>\n",
       "      <td>27767</td>\n",
       "      <td>ORIG</td>\n",
       "      <td>1298</td>\n",
       "      <td>2011</td>\n",
       "      <td>2011</td>\n",
       "      <td>NaN</td>\n",
       "      <td>NaN</td>\n",
       "      <td>NaN</td>\n",
       "      <td>NaN</td>\n",
       "      <td>NaN</td>\n",
       "      <td>NaN</td>\n",
       "      <td>NaN</td>\n",
       "      <td>NaN</td>\n",
       "      <td>SEM MOVIMENTO</td>\n",
       "      <td>-1</td>\n",
       "    </tr>\n",
       "    <tr>\n",
       "      <th>843281</th>\n",
       "      <td>TJRS</td>\n",
       "      <td>[{'identificadorMovimento': '40', 'tipoRespons...</td>\n",
       "      <td>G1</td>\n",
       "      <td>3353.32</td>\n",
       "      <td>00203913320108210044</td>\n",
       "      <td>2.0</td>\n",
       "      <td>NaN</td>\n",
       "      <td>4306809</td>\n",
       "      <td>[{'principal': True, 'codigoNacional': 7690}]</td>\n",
       "      <td>NaN</td>\n",
       "      <td>-1</td>\n",
       "      <td>20100309000000</td>\n",
       "      <td>1.0</td>\n",
       "      <td>0</td>\n",
       "      <td>169</td>\n",
       "      <td>2ª Vara - Encantado</td>\n",
       "      <td>4306809</td>\n",
       "      <td>3123</td>\n",
       "      <td>ORIG</td>\n",
       "      <td>2010</td>\n",
       "      <td>2010</td>\n",
       "      <td>2010</td>\n",
       "      <td>NaN</td>\n",
       "      <td>NaN</td>\n",
       "      <td>NaN</td>\n",
       "      <td>NaN</td>\n",
       "      <td>NaN</td>\n",
       "      <td>NaN</td>\n",
       "      <td>NaN</td>\n",
       "      <td>NaN</td>\n",
       "      <td>SEM MOVIMENTO</td>\n",
       "      <td>-1</td>\n",
       "    </tr>\n",
       "  </tbody>\n",
       "</table>\n",
       "</div>"
      ],
      "text/plain": [
       "       siglaTribunal                                          movimento grau  \\\n",
       "276428         TRT14  [{'identificadorMovimento': '5066701', 'movime...   G1   \n",
       "513135          TJGO  [{'movimentoNacional': {'codigoNacional': 3}, ...   G1   \n",
       "657791          TJRJ  [{'tipoResponsavelMovimento': 0, 'movimentoNac...   G1   \n",
       "31366          TRT11  [{'identificadorMovimento': '7480799', 'movime...   G1   \n",
       "843281          TJRS  [{'identificadorMovimento': '40', 'tipoRespons...   G1   \n",
       "\n",
       "        dadosBasicos.valorCausa   dadosBasicos.numero  dadosBasicos.procEl  \\\n",
       "276428                  5000.00  00006543820125140426                  NaN   \n",
       "513135                      NaN  02352624820108090067                  NaN   \n",
       "657791                      NaN  00008262720108190016                  NaN   \n",
       "31366                       NaN  00003514720115110004                  NaN   \n",
       "843281                  3353.32  00203913320108210044                  2.0   \n",
       "\n",
       "       dadosBasicos.competencia dadosBasicos.codigoLocalidade  \\\n",
       "276428                       16                       1200500   \n",
       "513135                      NaN                          1909   \n",
       "657791                      NaN                       3301207   \n",
       "31366                       NaN                        Manaus   \n",
       "843281                      NaN                       4306809   \n",
       "\n",
       "                                     dadosBasicos.assunto  \\\n",
       "276428  [{'principal': False, 'codigoNacional': 1998},...   \n",
       "513135  [{'principal': True, 'codigoNacional': 8842}, ...   \n",
       "657791  [{'codigoAssunto': 30356, 'codigoPaiNacional':...   \n",
       "31366      [{'principal': False, 'codigoNacional': 2641}]   \n",
       "843281      [{'principal': True, 'codigoNacional': 7690}]   \n",
       "\n",
       "       dadosBasicos.dscSistema dadosBasicos.tamanhoProcesso  \\\n",
       "276428                     NaN                  2.06827e+06   \n",
       "513135                     NaN                          NaN   \n",
       "657791                     NaN                          NaN   \n",
       "31366                      NaN                          NaN   \n",
       "843281                     NaN                           -1   \n",
       "\n",
       "       dadosBasicos.dataAjuizamento  dadosBasicos.totalAssuntos  \\\n",
       "276428                1355277600000                         NaN   \n",
       "513135               20100715000000                         4.0   \n",
       "657791               20100526000000                         1.0   \n",
       "31366                 1298343600000                         NaN   \n",
       "843281               20100309000000                         1.0   \n",
       "\n",
       "        dadosBasicos.nivelSigilo  dadosBasicos.classeProcessual  \\\n",
       "276428                         0                            985   \n",
       "513135                         0                          12154   \n",
       "657791                         0                              7   \n",
       "31366                          0                            985   \n",
       "843281                         0                            169   \n",
       "\n",
       "                     dadosBasicos.orgaoJulgador.nomeOrgao  \\\n",
       "276428              VARA DO TRABALHO DE SENA MADUREIRA/AC   \n",
       "513135  1ª Vara (Cível, Criminal - crime em geral e ex...   \n",
       "657791                                   CARMO VARA UNICA   \n",
       "31366                       4ª Vara do Trabalho de Manaus   \n",
       "843281                                2ª Vara - Encantado   \n",
       "\n",
       "        dadosBasicos.orgaoJulgador.codigoMunicipioIBGE  \\\n",
       "276428                                         1200500   \n",
       "513135                                            1909   \n",
       "657791                                         3301207   \n",
       "31366                                          1302603   \n",
       "843281                                         4306809   \n",
       "\n",
       "       dadosBasicos.orgaoJulgador.codigoOrgao  \\\n",
       "276428                                  30404   \n",
       "513135                                  52647   \n",
       "657791                                   7977   \n",
       "31366                                   27767   \n",
       "843281                                   3123   \n",
       "\n",
       "       dadosBasicos.orgaoJulgador.instancia ano_ajuizamento  ano_numero  \\\n",
       "276428                                 ORIG            1355        2012   \n",
       "513135                                 ORIG            2010        2010   \n",
       "657791                                 ORIG            2010        2010   \n",
       "31366                                  ORIG            1298        2011   \n",
       "843281                                 ORIG            2010        2010   \n",
       "\n",
       "        ano_ok  dadosBasicos.assunto.assuntoLocal.codigoAssunto  \\\n",
       "276428    2012                                              NaN   \n",
       "513135    2010                                              NaN   \n",
       "657791    2010                                              NaN   \n",
       "31366     2011                                              NaN   \n",
       "843281    2010                                              NaN   \n",
       "\n",
       "        dadosBasicos.assunto.assuntoLocal.codigoPaiNacional  \\\n",
       "276428                                                NaN     \n",
       "513135                                                NaN     \n",
       "657791                                                NaN     \n",
       "31366                                                 NaN     \n",
       "843281                                                NaN     \n",
       "\n",
       "       dadosBasicos.assunto.assuntoLocal.descricao  \\\n",
       "276428                                         NaN   \n",
       "513135                                         NaN   \n",
       "657791                                         NaN   \n",
       "31366                                          NaN   \n",
       "843281                                         NaN   \n",
       "\n",
       "       movimento.identificadorMovimento movimento.xmlns  \\\n",
       "276428                              NaN             NaN   \n",
       "513135                              NaN             NaN   \n",
       "657791                              NaN             NaN   \n",
       "31366                               NaN             NaN   \n",
       "843281                              NaN             NaN   \n",
       "\n",
       "        movimento.movimentoLocal.codigoMovimento  \\\n",
       "276428                                       NaN   \n",
       "513135                                       NaN   \n",
       "657791                                       NaN   \n",
       "31366                                        NaN   \n",
       "843281                                       NaN   \n",
       "\n",
       "        movimento.movimentoLocal.codigoPaiNacional  movimento.dataHora  \\\n",
       "276428                                         NaN                 NaN   \n",
       "513135                                         NaN                 NaN   \n",
       "657791                                         NaN                 NaN   \n",
       "31366                                          NaN                 NaN   \n",
       "843281                                         NaN                 NaN   \n",
       "\n",
       "       data_primeira_sentenca  codigo_primeira_sentenca  \n",
       "276428          SEM MOVIMENTO                        -1  \n",
       "513135          SEM MOVIMENTO                        -1  \n",
       "657791          SEM MOVIMENTO                        -1  \n",
       "31366           SEM MOVIMENTO                        -1  \n",
       "843281          SEM MOVIMENTO                        -1  "
      ]
     },
     "execution_count": 29,
     "metadata": {},
     "output_type": "execute_result"
    }
   ],
   "source": [
    "df[df.codigo_primeira_sentenca == -1].sample(5)"
   ]
  },
  {
   "cell_type": "code",
   "execution_count": 30,
   "metadata": {},
   "outputs": [
    {
     "data": {
      "text/plain": [
       "((622270, 32), (315351, 32))"
      ]
     },
     "execution_count": 30,
     "metadata": {},
     "output_type": "execute_result"
    }
   ],
   "source": [
    "df[df.codigo_primeira_sentenca == -1].shape, df[df.codigo_primeira_sentenca != -1].shape"
   ]
  },
  {
   "cell_type": "code",
   "execution_count": 31,
   "metadata": {},
   "outputs": [
    {
     "data": {
      "text/plain": [
       "(937621, 32)"
      ]
     },
     "execution_count": 31,
     "metadata": {},
     "output_type": "execute_result"
    }
   ],
   "source": [
    "df.shape"
   ]
  },
  {
   "cell_type": "code",
   "execution_count": 32,
   "metadata": {},
   "outputs": [
    {
     "name": "stdout",
     "output_type": "stream",
     "text": [
      "<class 'pandas.core.frame.DataFrame'>\n",
      "RangeIndex: 937621 entries, 0 to 937620\n",
      "Data columns (total 32 columns):\n",
      " #   Column                                               Non-Null Count   Dtype  \n",
      "---  ------                                               --------------   -----  \n",
      " 0   siglaTribunal                                        937621 non-null  object \n",
      " 1   movimento                                            914278 non-null  object \n",
      " 2   grau                                                 937621 non-null  object \n",
      " 3   dadosBasicos.valorCausa                              602709 non-null  float64\n",
      " 4   dadosBasicos.numero                                  937621 non-null  object \n",
      " 5   dadosBasicos.procEl                                  727492 non-null  float64\n",
      " 6   dadosBasicos.competencia                             297382 non-null  object \n",
      " 7   dadosBasicos.codigoLocalidade                        937621 non-null  object \n",
      " 8   dadosBasicos.assunto                                 932768 non-null  object \n",
      " 9   dadosBasicos.dscSistema                              700103 non-null  object \n",
      " 10  dadosBasicos.tamanhoProcesso                         151376 non-null  object \n",
      " 11  dadosBasicos.dataAjuizamento                         937621 non-null  object \n",
      " 12  dadosBasicos.totalAssuntos                           849191 non-null  float64\n",
      " 13  dadosBasicos.nivelSigilo                             937621 non-null  int64  \n",
      " 14  dadosBasicos.classeProcessual                        937621 non-null  int64  \n",
      " 15  dadosBasicos.orgaoJulgador.nomeOrgao                 936976 non-null  object \n",
      " 16  dadosBasicos.orgaoJulgador.codigoMunicipioIBGE       937621 non-null  int64  \n",
      " 17  dadosBasicos.orgaoJulgador.codigoOrgao               937621 non-null  object \n",
      " 18  dadosBasicos.orgaoJulgador.instancia                 937621 non-null  object \n",
      " 19  ano_ajuizamento                                      937621 non-null  object \n",
      " 20  ano_numero                                           937621 non-null  int64  \n",
      " 21  ano_ok                                               937621 non-null  int64  \n",
      " 22  dadosBasicos.assunto.assuntoLocal.codigoAssunto      120 non-null     float64\n",
      " 23  dadosBasicos.assunto.assuntoLocal.codigoPaiNacional  120 non-null     float64\n",
      " 24  dadosBasicos.assunto.assuntoLocal.descricao          120 non-null     object \n",
      " 25  movimento.identificadorMovimento                     0 non-null       object \n",
      " 26  movimento.xmlns                                      0 non-null       object \n",
      " 27  movimento.movimentoLocal.codigoMovimento             0 non-null       float64\n",
      " 28  movimento.movimentoLocal.codigoPaiNacional           0 non-null       float64\n",
      " 29  movimento.dataHora                                   0 non-null       float64\n",
      " 30  data_primeira_sentenca                               937621 non-null  object \n",
      " 31  codigo_primeira_sentenca                             937621 non-null  int64  \n",
      "dtypes: float64(8), int64(6), object(18)\n",
      "memory usage: 228.9+ MB\n"
     ]
    }
   ],
   "source": [
    "df.info()"
   ]
  },
  {
   "cell_type": "code",
   "execution_count": 33,
   "metadata": {},
   "outputs": [],
   "source": [
    "df.drop(['dadosBasicos.assunto.assuntoLocal.codigoAssunto', 'dadosBasicos.assunto.assuntoLocal.codigoPaiNacional',\n",
    "'dadosBasicos.assunto.assuntoLocal.descricao', 'movimento.identificadorMovimento', 'movimento.xmlns', \n",
    "'movimento.movimentoLocal.codigoMovimento', 'movimento.movimentoLocal.codigoPaiNacional', 'movimento.dataHora'], axis=1, inplace=True)"
   ]
  },
  {
   "cell_type": "code",
   "execution_count": 34,
   "metadata": {},
   "outputs": [],
   "source": [
    "def get_data_arquivamento(lista_movimentos):\n",
    "    if lista_movimentos in [None, np.nan]:\n",
    "        return 'SEM MOVIMENTO', -1\n",
    "    try:\n",
    "        datas = [i['dataHora'] for i in lista_movimentos]\n",
    "    except:\n",
    "        print(lista_movimentos)\n",
    "        raise\n",
    "\n",
    "    for val in lista_movimentos:\n",
    "        if 'movimentoNacional' in val.keys():\n",
    "            if val['movimentoNacional'] is not None:\n",
    "                if val['movimentoNacional']['codigoNacional'] in codigos_arquivamento:\n",
    "                        return val['dataHora'], val['movimentoNacional']['codigoNacional']\n",
    "        if 'movimentoLocal' in val.keys():\n",
    "            if val['movimentoLocal'] is not None:\n",
    "                if val['movimentoLocal']['codigoPaiNacional'] in codigos_arquivamento:\n",
    "                    return val['dataHora'], val['movimentoLocal']['codigoPaiNacional']\n",
    "    return 'SEM MOVIMENTO', -1"
   ]
  },
  {
   "cell_type": "code",
   "execution_count": 35,
   "metadata": {},
   "outputs": [
    {
     "data": {
      "text/plain": [
       "[22, 228, 861, 12430]"
      ]
     },
     "execution_count": 35,
     "metadata": {},
     "output_type": "execute_result"
    }
   ],
   "source": [
    "arquivamento = [\n",
    "'Baixa Definitiva',\n",
    "'Arquivamento'\n",
    "]\n",
    "codigos_arquivamento= movimentos[movimentos.descricao.isin( arquivamento)].codigo.values.tolist()\n",
    "codigos_arquivamento"
   ]
  },
  {
   "cell_type": "code",
   "execution_count": 36,
   "metadata": {},
   "outputs": [],
   "source": [
    "data_arquivamento = df.movimento.apply(get_data_arquivamento)"
   ]
  },
  {
   "cell_type": "code",
   "execution_count": 37,
   "metadata": {},
   "outputs": [
    {
     "data": {
      "text/plain": [
       "811014      (SEM MOVIMENTO, -1)\n",
       "287075      (SEM MOVIMENTO, -1)\n",
       "935040    (20200630171247, 861)\n",
       "597085      (SEM MOVIMENTO, -1)\n",
       "9158        (SEM MOVIMENTO, -1)\n",
       "481288      (SEM MOVIMENTO, -1)\n",
       "76875       (SEM MOVIMENTO, -1)\n",
       "899455     (20200702152825, 22)\n",
       "318607      (SEM MOVIMENTO, -1)\n",
       "433890      (SEM MOVIMENTO, -1)\n",
       "119869      (SEM MOVIMENTO, -1)\n",
       "601462      (SEM MOVIMENTO, -1)\n",
       "739713      (SEM MOVIMENTO, -1)\n",
       "584172      (SEM MOVIMENTO, -1)\n",
       "674426      (SEM MOVIMENTO, -1)\n",
       "646367      (SEM MOVIMENTO, -1)\n",
       "113505      (SEM MOVIMENTO, -1)\n",
       "160741      (SEM MOVIMENTO, -1)\n",
       "317437      (SEM MOVIMENTO, -1)\n",
       "407804      (SEM MOVIMENTO, -1)\n",
       "Name: movimento, dtype: object"
      ]
     },
     "execution_count": 37,
     "metadata": {},
     "output_type": "execute_result"
    }
   ],
   "source": [
    "data_arquivamento.sample(20)"
   ]
  },
  {
   "cell_type": "code",
   "execution_count": 38,
   "metadata": {},
   "outputs": [],
   "source": [
    "df['data_arquivamento'] = [i[0] for i in data_arquivamento.values]\n",
    "df['codigo_arquivamento'] = [i[1] for i in data_arquivamento.values]"
   ]
  },
  {
   "cell_type": "code",
   "execution_count": 39,
   "metadata": {},
   "outputs": [
    {
     "data": {
      "text/plain": [
       "((824253, 26), (113368, 26))"
      ]
     },
     "execution_count": 39,
     "metadata": {},
     "output_type": "execute_result"
    }
   ],
   "source": [
    "df[df.codigo_arquivamento == -1].shape, df[df.codigo_arquivamento != -1].shape"
   ]
  },
  {
   "cell_type": "code",
   "execution_count": 40,
   "metadata": {},
   "outputs": [],
   "source": [
    "def get_assunto_principal(lista_assuntos):\n",
    "    if lista_assuntos in [None, np.nan]:\n",
    "        return -1\n",
    "    if type(lista_assuntos) == float:\n",
    "        return -2\n",
    "    try:\n",
    "        assunto = [i for i in lista_assuntos if i['principal'] == True][0]\n",
    "    except:\n",
    "        assunto = lista_assuntos[0]\n",
    "    try:\n",
    "        if 'assuntoLocal' in assunto.keys():\n",
    "            if assunto['assuntoLocal'] is not None:\n",
    "                codigo = assunto['assuntoLocal']['codigoPaiNacional']\n",
    "        if 'codigoNacional' in assunto.keys():\n",
    "            codigo = assunto['codigoNacional']\n",
    "        if 'codigoAssunto' in assunto.keys():\n",
    "            if 'codigoPaiNacional' in assunto.keys():\n",
    "                codigo = assunto['codigoPaiNacional']\n",
    "\n",
    "            \n",
    "        return codigo\n",
    "    except:\n",
    "        #print(lista_assuntos)\n",
    "        #raise\n",
    "        return -3\n"
   ]
  },
  {
   "cell_type": "code",
   "execution_count": 41,
   "metadata": {},
   "outputs": [],
   "source": [
    "df['codigo_assunto_principal'] = df['dadosBasicos.assunto'].apply(get_assunto_principal)"
   ]
  },
  {
   "cell_type": "code",
   "execution_count": 42,
   "metadata": {},
   "outputs": [
    {
     "data": {
      "text/plain": [
       "-2.0    4853\n",
       "-3.0     182\n",
       "Name: codigo_assunto_principal, dtype: int64"
      ]
     },
     "execution_count": 42,
     "metadata": {},
     "output_type": "execute_result"
    }
   ],
   "source": [
    "df[df['codigo_assunto_principal'] < 0].codigo_assunto_principal.value_counts()"
   ]
  },
  {
   "cell_type": "code",
   "execution_count": 43,
   "metadata": {},
   "outputs": [
    {
     "data": {
      "text/plain": [
       "2641.0     61680\n",
       "864.0      27642\n",
       "1998.0     25053\n",
       "2546.0     22853\n",
       "9148.0     15346\n",
       "           ...  \n",
       "5933.0       103\n",
       "10379.0      102\n",
       "2477.0       102\n",
       "10531.0      101\n",
       "11848.0      101\n",
       "Name: codigo_assunto_principal, Length: 585, dtype: int64"
      ]
     },
     "execution_count": 43,
     "metadata": {},
     "output_type": "execute_result"
    }
   ],
   "source": [
    "df['codigo_assunto_principal'].value_counts()[df['codigo_assunto_principal'].value_counts() > 100]"
   ]
  },
  {
   "cell_type": "code",
   "execution_count": 44,
   "metadata": {},
   "outputs": [
    {
     "data": {
      "text/plain": [
       "(602709, 334912)"
      ]
     },
     "execution_count": 44,
     "metadata": {},
     "output_type": "execute_result"
    }
   ],
   "source": [
    "df['dadosBasicos.valorCausa'].notnull().sum(), df['dadosBasicos.valorCausa'].isnull().sum()"
   ]
  },
  {
   "cell_type": "code",
   "execution_count": 45,
   "metadata": {},
   "outputs": [],
   "source": [
    "def fix_data(fulldate):\n",
    "    fulldate = str(fulldate)\n",
    "    if fulldate[0] not in ['1', '2']:\n",
    "        return np.nan\n",
    "    ano = fulldate[:4]\n",
    "    mes = fulldate[4:6]\n",
    "    dia = fulldate[6:8]\n",
    "    \n",
    "    if int(mes)== 0 or int(mes) > 12:\n",
    "        return np.nan\n",
    "    if int(dia) == 0 or int(dia) > 31:\n",
    "        return np.nan\n",
    "    if int(ano) < 2000 or int(ano) > 2020:\n",
    "        return np.nan\n",
    "    else:\n",
    "        return f'{ano}-{mes}-{dia}'"
   ]
  },
  {
   "cell_type": "code",
   "execution_count": 46,
   "metadata": {},
   "outputs": [],
   "source": [
    "def get_data_primeiro_movimento(lista_movimentos):\n",
    "    if lista_movimentos in [None, np.nan]:\n",
    "        return np.nan\n",
    "    try:\n",
    "        lista_movimentos = [i for i in lista_movimentos if 'dataHora' in i.keys()]\n",
    "        lista_movimentos = [i for i in lista_movimentos if i['dataHora'] != None]\n",
    "        lista_movimentos = sorted(lista_movimentos, key=lambda k: k['dataHora']) \n",
    "    except:\n",
    "        print(lista_movimentos[0])\n",
    "        raise\n",
    "    movimento = lista_movimentos[0]['dataHora']\n",
    "    return fix_data(movimento)"
   ]
  },
  {
   "cell_type": "code",
   "execution_count": 47,
   "metadata": {},
   "outputs": [],
   "source": [
    "df['data_ajuizamento_ok'] = df['movimento'].apply(get_data_primeiro_movimento)"
   ]
  },
  {
   "cell_type": "code",
   "execution_count": 48,
   "metadata": {},
   "outputs": [],
   "source": [
    "df_ok = df[df['data_ajuizamento_ok'].notnull()].copy()\n",
    "df_notok = df[df['data_ajuizamento_ok'].isnull()].copy()"
   ]
  },
  {
   "cell_type": "code",
   "execution_count": null,
   "metadata": {},
   "outputs": [],
   "source": []
  },
  {
   "cell_type": "code",
   "execution_count": 49,
   "metadata": {},
   "outputs": [
    {
     "data": {
      "text/plain": [
       "((911607, 28), (26014, 28))"
      ]
     },
     "execution_count": 49,
     "metadata": {},
     "output_type": "execute_result"
    }
   ],
   "source": [
    "df_ok.shape, df_notok.shape"
   ]
  },
  {
   "cell_type": "code",
   "execution_count": 50,
   "metadata": {},
   "outputs": [],
   "source": [
    "\n",
    "df_notok['data_ajuizamento_ok'] = df_notok['dadosBasicos.dataAjuizamento'].apply(fix_data)"
   ]
  },
  {
   "cell_type": "code",
   "execution_count": 51,
   "metadata": {},
   "outputs": [
    {
     "data": {
      "text/plain": [
       "2621"
      ]
     },
     "execution_count": 51,
     "metadata": {},
     "output_type": "execute_result"
    }
   ],
   "source": [
    "df_notok['data_ajuizamento_ok'].isnull().sum()"
   ]
  },
  {
   "cell_type": "code",
   "execution_count": 52,
   "metadata": {},
   "outputs": [],
   "source": [
    "df = df_ok.append(df_notok)"
   ]
  },
  {
   "cell_type": "code",
   "execution_count": 53,
   "metadata": {},
   "outputs": [
    {
     "data": {
      "text/html": [
       "<div>\n",
       "<style scoped>\n",
       "    .dataframe tbody tr th:only-of-type {\n",
       "        vertical-align: middle;\n",
       "    }\n",
       "\n",
       "    .dataframe tbody tr th {\n",
       "        vertical-align: top;\n",
       "    }\n",
       "\n",
       "    .dataframe thead th {\n",
       "        text-align: right;\n",
       "    }\n",
       "</style>\n",
       "<table border=\"1\" class=\"dataframe\">\n",
       "  <thead>\n",
       "    <tr style=\"text-align: right;\">\n",
       "      <th></th>\n",
       "      <th>siglaTribunal</th>\n",
       "      <th>movimento</th>\n",
       "      <th>grau</th>\n",
       "      <th>dadosBasicos.valorCausa</th>\n",
       "      <th>dadosBasicos.numero</th>\n",
       "      <th>dadosBasicos.procEl</th>\n",
       "      <th>dadosBasicos.competencia</th>\n",
       "      <th>dadosBasicos.codigoLocalidade</th>\n",
       "      <th>dadosBasicos.assunto</th>\n",
       "      <th>dadosBasicos.dscSistema</th>\n",
       "      <th>dadosBasicos.tamanhoProcesso</th>\n",
       "      <th>dadosBasicos.dataAjuizamento</th>\n",
       "      <th>dadosBasicos.totalAssuntos</th>\n",
       "      <th>dadosBasicos.nivelSigilo</th>\n",
       "      <th>dadosBasicos.classeProcessual</th>\n",
       "      <th>dadosBasicos.orgaoJulgador.nomeOrgao</th>\n",
       "      <th>dadosBasicos.orgaoJulgador.codigoMunicipioIBGE</th>\n",
       "      <th>dadosBasicos.orgaoJulgador.codigoOrgao</th>\n",
       "      <th>dadosBasicos.orgaoJulgador.instancia</th>\n",
       "      <th>ano_ajuizamento</th>\n",
       "      <th>ano_numero</th>\n",
       "      <th>ano_ok</th>\n",
       "      <th>data_primeira_sentenca</th>\n",
       "      <th>codigo_primeira_sentenca</th>\n",
       "      <th>data_arquivamento</th>\n",
       "      <th>codigo_arquivamento</th>\n",
       "      <th>codigo_assunto_principal</th>\n",
       "      <th>data_ajuizamento_ok</th>\n",
       "    </tr>\n",
       "  </thead>\n",
       "  <tbody>\n",
       "    <tr>\n",
       "      <th>361095</th>\n",
       "      <td>TRT22</td>\n",
       "      <td>[{'identificadorMovimento': '1', 'movimentoNac...</td>\n",
       "      <td>G1</td>\n",
       "      <td>5511.68</td>\n",
       "      <td>00004214620205220003</td>\n",
       "      <td>1.0</td>\n",
       "      <td>NaN</td>\n",
       "      <td>2211001</td>\n",
       "      <td>[{'principal': True, 'codigoNacional': 2641}]</td>\n",
       "      <td>1</td>\n",
       "      <td>NaN</td>\n",
       "      <td>20200605115420</td>\n",
       "      <td>1.0</td>\n",
       "      <td>0</td>\n",
       "      <td>12374</td>\n",
       "      <td>3ª VARA DO TRABALHO DE TERESINA</td>\n",
       "      <td>2211001</td>\n",
       "      <td>30302</td>\n",
       "      <td>ORIG</td>\n",
       "      <td>2020</td>\n",
       "      <td>2020</td>\n",
       "      <td>2020</td>\n",
       "      <td>20200720093807</td>\n",
       "      <td>466</td>\n",
       "      <td>SEM MOVIMENTO</td>\n",
       "      <td>-1</td>\n",
       "      <td>2641.0</td>\n",
       "      <td>2020-06-05</td>\n",
       "    </tr>\n",
       "  </tbody>\n",
       "</table>\n",
       "</div>"
      ],
      "text/plain": [
       "       siglaTribunal                                          movimento grau  \\\n",
       "361095         TRT22  [{'identificadorMovimento': '1', 'movimentoNac...   G1   \n",
       "\n",
       "        dadosBasicos.valorCausa   dadosBasicos.numero  dadosBasicos.procEl  \\\n",
       "361095                  5511.68  00004214620205220003                  1.0   \n",
       "\n",
       "       dadosBasicos.competencia dadosBasicos.codigoLocalidade  \\\n",
       "361095                      NaN                       2211001   \n",
       "\n",
       "                                 dadosBasicos.assunto dadosBasicos.dscSistema  \\\n",
       "361095  [{'principal': True, 'codigoNacional': 2641}]                       1   \n",
       "\n",
       "       dadosBasicos.tamanhoProcesso dadosBasicos.dataAjuizamento  \\\n",
       "361095                          NaN               20200605115420   \n",
       "\n",
       "        dadosBasicos.totalAssuntos  dadosBasicos.nivelSigilo  \\\n",
       "361095                         1.0                         0   \n",
       "\n",
       "        dadosBasicos.classeProcessual dadosBasicos.orgaoJulgador.nomeOrgao  \\\n",
       "361095                          12374      3ª VARA DO TRABALHO DE TERESINA   \n",
       "\n",
       "        dadosBasicos.orgaoJulgador.codigoMunicipioIBGE  \\\n",
       "361095                                         2211001   \n",
       "\n",
       "       dadosBasicos.orgaoJulgador.codigoOrgao  \\\n",
       "361095                                  30302   \n",
       "\n",
       "       dadosBasicos.orgaoJulgador.instancia ano_ajuizamento  ano_numero  \\\n",
       "361095                                 ORIG            2020        2020   \n",
       "\n",
       "        ano_ok data_primeira_sentenca  codigo_primeira_sentenca  \\\n",
       "361095    2020         20200720093807                       466   \n",
       "\n",
       "       data_arquivamento  codigo_arquivamento  codigo_assunto_principal  \\\n",
       "361095     SEM MOVIMENTO                   -1                    2641.0   \n",
       "\n",
       "       data_ajuizamento_ok  \n",
       "361095          2020-06-05  "
      ]
     },
     "execution_count": 53,
     "metadata": {},
     "output_type": "execute_result"
    }
   ],
   "source": [
    "df.sample(1)"
   ]
  },
  {
   "cell_type": "code",
   "execution_count": 54,
   "metadata": {},
   "outputs": [],
   "source": [
    "df['data_ajuizamento_ok'] = pd.to_datetime(df['data_ajuizamento_ok'] , yearfirst=True, dayfirst=False, infer_datetime_format=True)\n"
   ]
  },
  {
   "cell_type": "code",
   "execution_count": null,
   "metadata": {},
   "outputs": [],
   "source": []
  },
  {
   "cell_type": "code",
   "execution_count": 55,
   "metadata": {},
   "outputs": [
    {
     "data": {
      "text/plain": [
       "629354    SEM MOVIMENTO\n",
       "9943      SEM MOVIMENTO\n",
       "186068    SEM MOVIMENTO\n",
       "621257    SEM MOVIMENTO\n",
       "396321    SEM MOVIMENTO\n",
       "Name: data_arquivamento, dtype: object"
      ]
     },
     "execution_count": 55,
     "metadata": {},
     "output_type": "execute_result"
    }
   ],
   "source": [
    "df['data_arquivamento'].sample(5)"
   ]
  },
  {
   "cell_type": "code",
   "execution_count": 56,
   "metadata": {},
   "outputs": [],
   "source": [
    "df['data_arquivamento_ok'] = df['data_arquivamento'].apply(fix_data)"
   ]
  },
  {
   "cell_type": "code",
   "execution_count": 57,
   "metadata": {},
   "outputs": [
    {
     "data": {
      "text/plain": [
       "((824257, 29), (113364, 29))"
      ]
     },
     "execution_count": 57,
     "metadata": {},
     "output_type": "execute_result"
    }
   ],
   "source": [
    "df[df['data_arquivamento_ok'].isnull()].shape, df[df['data_arquivamento_ok'].notnull()].shape"
   ]
  },
  {
   "cell_type": "code",
   "execution_count": 58,
   "metadata": {},
   "outputs": [],
   "source": [
    "df['data_arquivamento_ok'] = pd.to_datetime(df['data_arquivamento_ok'] , yearfirst=True, dayfirst=False, infer_datetime_format=True)"
   ]
  },
  {
   "cell_type": "code",
   "execution_count": 59,
   "metadata": {},
   "outputs": [],
   "source": [
    "df['n_dias_ate_arquivamento'] = df['data_arquivamento_ok'] - df['data_ajuizamento_ok']"
   ]
  },
  {
   "cell_type": "code",
   "execution_count": 60,
   "metadata": {},
   "outputs": [],
   "source": [
    "df['n_dias_ate_arquivamento'] = df['n_dias_ate_arquivamento'].apply(lambda x: x.days)"
   ]
  },
  {
   "cell_type": "code",
   "execution_count": 61,
   "metadata": {},
   "outputs": [
    {
     "data": {
      "text/plain": [
       " NaN       824571\n",
       " 0.0         1652\n",
       " 1.0          309\n",
       " 91.0         216\n",
       " 2.0          211\n",
       "            ...  \n",
       " 5436.0         1\n",
       "-1588.0         1\n",
       " 3895.0         1\n",
       " 3898.0         1\n",
       "-755.0          1\n",
       "Name: n_dias_ate_arquivamento, Length: 4132, dtype: int64"
      ]
     },
     "execution_count": 61,
     "metadata": {},
     "output_type": "execute_result"
    }
   ],
   "source": [
    "df['n_dias_ate_arquivamento'].value_counts(dropna=False)"
   ]
  },
  {
   "cell_type": "code",
   "execution_count": 62,
   "metadata": {},
   "outputs": [
    {
     "data": {
      "text/plain": [
       "<matplotlib.axes._subplots.AxesSubplot at 0x7f1cb80155d0>"
      ]
     },
     "execution_count": 62,
     "metadata": {},
     "output_type": "execute_result"
    },
    {
     "data": {
      "image/png": "[encoded data removed]",
      "text/plain": [
       "<Figure size 432x288 with 1 Axes>"
      ]
     },
     "metadata": {
      "needs_background": "light"
     },
     "output_type": "display_data"
    }
   ],
   "source": [
    "df['n_dias_ate_arquivamento'].hist()"
   ]
  },
  {
   "cell_type": "code",
   "execution_count": 63,
   "metadata": {},
   "outputs": [],
   "source": [
    "df['data_primeira_sentenca_ok'] = df['data_primeira_sentenca'].apply(fix_data)"
   ]
  },
  {
   "cell_type": "code",
   "execution_count": 64,
   "metadata": {},
   "outputs": [
    {
     "data": {
      "text/plain": [
       "(622285, 315336)"
      ]
     },
     "execution_count": 64,
     "metadata": {},
     "output_type": "execute_result"
    }
   ],
   "source": [
    "df['data_primeira_sentenca_ok'].isnull().sum(), df['data_primeira_sentenca_ok'].notnull().sum()"
   ]
  },
  {
   "cell_type": "code",
   "execution_count": 65,
   "metadata": {},
   "outputs": [],
   "source": [
    "df['data_primeira_sentenca_ok'] = pd.to_datetime(df['data_primeira_sentenca_ok'] , yearfirst=True, dayfirst=False, infer_datetime_format=True)"
   ]
  },
  {
   "cell_type": "code",
   "execution_count": 66,
   "metadata": {},
   "outputs": [],
   "source": [
    "df['n_dias_ate_sentenca'] = df['data_primeira_sentenca_ok'] - df['data_ajuizamento_ok']"
   ]
  },
  {
   "cell_type": "code",
   "execution_count": 67,
   "metadata": {},
   "outputs": [],
   "source": [
    "df['n_dias_ate_sentenca'] = df['n_dias_ate_sentenca'].apply(lambda x: x.days)"
   ]
  },
  {
   "cell_type": "code",
   "execution_count": 68,
   "metadata": {},
   "outputs": [
    {
     "data": {
      "text/plain": [
       " NaN       622315\n",
       " 0.0         3268\n",
       " 1.0         2022\n",
       " 35.0        1874\n",
       " 70.0        1702\n",
       "            ...  \n",
       " 3906.0         1\n",
       "-1577.0         1\n",
       " 3953.0         1\n",
       " 3954.0         1\n",
       "-2140.0         1\n",
       "Name: n_dias_ate_sentenca, Length: 3928, dtype: int64"
      ]
     },
     "execution_count": 68,
     "metadata": {},
     "output_type": "execute_result"
    }
   ],
   "source": [
    "df['n_dias_ate_sentenca'].value_counts(dropna=False)"
   ]
  },
  {
   "cell_type": "code",
   "execution_count": 69,
   "metadata": {},
   "outputs": [
    {
     "data": {
      "text/plain": [
       "<matplotlib.axes._subplots.AxesSubplot at 0x7f1cb7a4c810>"
      ]
     },
     "execution_count": 69,
     "metadata": {},
     "output_type": "execute_result"
    },
    {
     "data": {
      "image/png": "[encoded data removed]",
      "text/plain": [
       "<Figure size 432x288 with 1 Axes>"
      ]
     },
     "metadata": {
      "needs_background": "light"
     },
     "output_type": "display_data"
    }
   ],
   "source": [
    "df['n_dias_ate_sentenca'].hist()"
   ]
  },
  {
   "cell_type": "code",
   "execution_count": 70,
   "metadata": {},
   "outputs": [
    {
     "data": {
      "text/plain": [
       "count    315306.000000\n",
       "mean        451.525905\n",
       "std         700.832338\n",
       "min       -6495.000000\n",
       "25%          65.000000\n",
       "50%         146.000000\n",
       "75%         477.000000\n",
       "max        6906.000000\n",
       "Name: n_dias_ate_sentenca, dtype: float64"
      ]
     },
     "execution_count": 70,
     "metadata": {},
     "output_type": "execute_result"
    }
   ],
   "source": [
    "df['n_dias_ate_sentenca'].describe()"
   ]
  },
  {
   "cell_type": "code",
   "execution_count": 71,
   "metadata": {},
   "outputs": [
    {
     "data": {
      "text/plain": [
       "((315282, 32), (24, 32))"
      ]
     },
     "execution_count": 71,
     "metadata": {},
     "output_type": "execute_result"
    }
   ],
   "source": [
    "df[df['n_dias_ate_sentenca'] >= 0].shape, df[df['n_dias_ate_sentenca'] < 0].shape"
   ]
  },
  {
   "cell_type": "code",
   "execution_count": 72,
   "metadata": {},
   "outputs": [],
   "source": [
    "# Exemplo: processo 00040060220018070016 - [rpcessp de ]"
   ]
  },
  {
   "cell_type": "code",
   "execution_count": 73,
   "metadata": {},
   "outputs": [],
   "source": [
    "df['data_ajuizamento_temp'] = df['dadosBasicos.dataAjuizamento'].apply(fix_data)"
   ]
  },
  {
   "cell_type": "code",
   "execution_count": 74,
   "metadata": {},
   "outputs": [],
   "source": [
    "df['data_ajuizamento_temp'] = pd.to_datetime(df['data_ajuizamento_temp'] , yearfirst=True, dayfirst=False, infer_datetime_format=True)\n",
    "\n"
   ]
  },
  {
   "cell_type": "code",
   "execution_count": 75,
   "metadata": {},
   "outputs": [],
   "source": [
    "def problema_data_ajuizamento(row):\n",
    "    if row.n_dias_ate_sentenca < 0:\n",
    "        return 1\n",
    "    if row.data_ajuizamento_temp > row.data_ajuizamento_ok: #data_ajuizamento_ok é composto pela data da primeira movimentacao\n",
    "        return 1\n",
    "    return 0"
   ]
  },
  {
   "cell_type": "code",
   "execution_count": 76,
   "metadata": {},
   "outputs": [],
   "source": [
    "df['problema_na_data_ajuizamento'] = df.apply(problema_data_ajuizamento, axis=1)"
   ]
  },
  {
   "cell_type": "code",
   "execution_count": 77,
   "metadata": {},
   "outputs": [
    {
     "data": {
      "text/plain": [
       "0    927422\n",
       "1     10199\n",
       "Name: problema_na_data_ajuizamento, dtype: int64"
      ]
     },
     "execution_count": 77,
     "metadata": {},
     "output_type": "execute_result"
    }
   ],
   "source": [
    "df['problema_na_data_ajuizamento'].value_counts()"
   ]
  },
  {
   "cell_type": "code",
   "execution_count": null,
   "metadata": {},
   "outputs": [],
   "source": [
    "df.drop('data_ajuizamento_temp', axis=1, inplace=True)"
   ]
  },
  {
   "cell_type": "code",
   "execution_count": 82,
   "metadata": {},
   "outputs": [],
   "source": [
    "classes = pd.read_csv('data/sgt_classes.csv', sep=';')\n",
    "assuntos = pd.read_csv('data/sgt_assuntos.csv', sep=';')\n",
    "\n",
    "dict_assuntos_pais = {}\n",
    "for _, row in assuntos.iterrows():\n",
    "    dict_assuntos_pais[row.codigo] = row.cod_pai\n",
    "    \n",
    "dict_assuntos = {}\n",
    "dict_classes = {}\n",
    "\n",
    "for _, row in assuntos.iterrows():\n",
    "    dict_assuntos[row.codigo] = row.descricao\n",
    "    \n",
    "for _, row in classes.iterrows():\n",
    "    dict_classes[row.codigo] = row.descricao\n",
    "    "
   ]
  },
  {
   "cell_type": "code",
   "execution_count": 89,
   "metadata": {},
   "outputs": [],
   "source": [
    "\n",
    "df['codigo_assunto_pai_1'] = df['codigo_assunto_principal'].map(dict_assuntos_pais)\n",
    "df['codigo_assunto_pai_2'] = df['codigo_assunto_pai_1'].map(dict_assuntos_pais)\n",
    "df['codigo_assunto_pai_3'] = df['codigo_assunto_pai_2'].map(dict_assuntos_pais)\n",
    "df['codigo_assunto_pai_4'] = df['codigo_assunto_pai_3'].map(dict_assuntos_pais)\n",
    "df['codigo_assunto_pai_5'] = df['codigo_assunto_pai_4'].map(dict_assuntos_pais)\n",
    "df['assunto_principal'] = df['codigo_assunto_principal'].map(dict_assuntos)\n",
    "df['assunto_pai_1'] = df['codigo_assunto_pai_1'].map(dict_assuntos)\n",
    "df['assunto_pai_2'] = df['codigo_assunto_pai_2'].map(dict_assuntos)\n",
    "df['assunto_pai_3'] = df['codigo_assunto_pai_3'].map(dict_assuntos)\n",
    "df['assunto_pai_4'] = df['codigo_assunto_pai_4'].map(dict_assuntos)\n",
    "df['assunto_pai_5'] = df['codigo_assunto_pai_5'].map(dict_assuntos)"
   ]
  },
  {
   "cell_type": "code",
   "execution_count": 92,
   "metadata": {},
   "outputs": [
    {
     "data": {
      "text/plain": [
       "DIREITO CIVIL                                                  15852\n",
       "DIREITO ADMINISTRATIVO E OUTRAS MATÉRIAS DE DIREITO PÚBLICO     2197\n",
       "DIREITO DA SAÚDE                                                 447\n",
       "DIREITO PREVIDENCIÁRIO                                            83\n",
       "DIREITO TRIBUTÁRIO                                                33\n",
       "Crédito Tributário                                                24\n",
       "DIREITO DA CRIANÇA E DO ADOLESCENTE                               18\n",
       "DIREITO PROCESSUAL PENAL                                           9\n",
       "DIREITO PROCESSUAL CIVIL E DO TRABALHO                             8\n",
       "DIREITO PENAL                                                      5\n",
       "Name: assunto_pai_4, dtype: int64"
      ]
     },
     "execution_count": 92,
     "metadata": {},
     "output_type": "execute_result"
    }
   ],
   "source": [
    "df['assunto_pai_4'].value_counts()"
   ]
  },
  {
   "cell_type": "code",
   "execution_count": 93,
   "metadata": {},
   "outputs": [
    {
     "name": "stdout",
     "output_type": "stream",
     "text": [
      "(937621, 44)\n"
     ]
    }
   ],
   "source": [
    "print(df.shape)"
   ]
  },
  {
   "cell_type": "code",
   "execution_count": 111,
   "metadata": {},
   "outputs": [
    {
     "data": {
      "text/plain": [
       "(227,\n",
       " ['Condescendência criminosa',\n",
       "  'Responsabilidade Criminal por Danos Nucleares',\n",
       "  'Apologia de Crime ou Criminoso',\n",
       "  'Discriminação Tributária MERCOSUL',\n",
       "  'Apologia de Crime ou Criminoso',\n",
       "  'Condescendência criminosa (art. 320)',\n",
       "  'Responsabilidade Criminal por Danos Nucleares',\n",
       "  'Despenalização / Descriminalização',\n",
       "  'Abolitio Criminis',\n",
       "  'Por condenação criminal',\n",
       "  'Abolitio criminis',\n",
       "  'Apologia de fato criminoso ou do seu autor',\n",
       "  'Condescendência criminosa',\n",
       "  'Inelegibilidade - Condenação Criminal por órgão colegiado ou Transitada em Julgado',\n",
       "  'Não Discriminação',\n",
       "  'Crimes da Lei que Proíbe Práticas Discriminatórias para Efeitos Trabalhistas',\n",
       "  'Da Lei que Proíbe Práticas Discriminatórias para Efeitos Trabalhistas',\n",
       "  'Crimes previstos na Lei da Organização Criminosa',\n",
       "  'Promoção, constituição, financiamento ou integração de Organização Criminosa',\n",
       "  'Imputação falsa de prática de infração penal ou revelação inverídica sobre estrutura de organização criminal',\n",
       "  'Arquivamento de Procedimento Investigatório Criminal - PIC-MP',\n",
       "  'BULLYING, VIOLÊNCIA E DISCRIMINAÇÃO',\n",
       "  'DIREITO PENAL',\n",
       "  'DIREITO PROCESSUAL PENAL',\n",
       "  'Ação Penal',\n",
       "  'Cláusula Penal',\n",
       "  'Execução Penal e de Medidas Alternativas',\n",
       "  'Penalidades Disciplinares',\n",
       "  'Penalidades Disciplinares',\n",
       "  'Penalidades',\n",
       "  'Despenalização / Descriminalização',\n",
       "  'Investigação Penal',\n",
       "  'Penas do Código Penal Militar',\n",
       "  'Execução Penal Provisória - Cabimento',\n",
       "  'DIREITO PROCESSUAL PENAL MILITAR',\n",
       "  'Ação Penal Militar',\n",
       "  'Execução Penal',\n",
       "  'DIREITO PENAL MILITAR',\n",
       "  'Não-Apresentação de Denúncia ou Não Execução de Sentença Penal Condenatória no Prazo Legal  ',\n",
       "  'Imputação falsa de prática de infração penal ou revelação inverídica sobre estrutura de organização criminal',\n",
       "  'Acordo de Não Persecução Penal',\n",
       "  'Transação Penal',\n",
       "  'Prisão Preventiva',\n",
       "  'Prisão em flagrante',\n",
       "  'Impedimento / Detenção / Prisão',\n",
       "  'Prisão Civil',\n",
       "  'Prisão Temporária',\n",
       "  'Prisão Decorrente de Sentença Condenatória',\n",
       "  'Prisão Domiciliar / Especial',\n",
       "  'Prisão ou Detenção do Eleitor, Membro de Mesa Receptora, Fiscal, Delegado de Partido ou Candidato, Fora das Hipóteses Legais Permitidas ',\n",
       "  'Entrada de aparelho telefônico de comunicação móvel em estabelecimento prisional',\n",
       "  'Entrada de aparelho telefônico de comunicação móvel em estabelecimento prisional',\n",
       "  'Crimes cometidos contra autoridade ou agente descrito nos arts. 142 e 143 da Constituição Federal, integrantes do sistema prisional e da Força Nacional de Segurança Pública',\n",
       "  'Sistema Prisional',\n",
       "  'Condição de Elegibilidade - Domicílio Eleitoral na Circunscrição',\n",
       "  'DIREITO PENAL',\n",
       "  'DIREITO PROCESSUAL PENAL',\n",
       "  'Contravenções Penais',\n",
       "  'Ação Penal',\n",
       "  'Cláusula Penal',\n",
       "  'Pena Restritiva de Direitos',\n",
       "  'Pena Privativa de Liberdade',\n",
       "  'Pena de Multa',\n",
       "  'Execução Penal e de Medidas Alternativas',\n",
       "  'Contravenções Penais',\n",
       "  'Penalidades Disciplinares',\n",
       "  'Penalidades Disciplinares',\n",
       "  'Penalidades',\n",
       "  'Despenalização / Descriminalização',\n",
       "  'Investigação Penal',\n",
       "  'Aplicação da Pena',\n",
       "  'Substituição da Pena',\n",
       "  'Suspensão condicional da pena',\n",
       "  'Penas do Código Penal Militar',\n",
       "  'Execução Penal Provisória - Cabimento',\n",
       "  'DIREITO PROCESSUAL PENAL MILITAR',\n",
       "  'Ação Penal Militar',\n",
       "  'Execução Penal',\n",
       "  'Penas restritivas de direitos',\n",
       "  'DIREITO PENAL MILITAR',\n",
       "  'Aplicação da Pena',\n",
       "  'Penas Acessórias',\n",
       "  'Suspensão Condicional da Pena',\n",
       "  'Conversão da Pena',\n",
       "  'Substituição da Pena',\n",
       "  'Não-Apresentação de Denúncia ou Não Execução de Sentença Penal Condenatória no Prazo Legal  ',\n",
       "  'Imputação falsa de prática de infração penal ou revelação inverídica sobre estrutura de organização criminal',\n",
       "  'Acordo de Não Persecução Penal',\n",
       "  'Transação Penal',\n",
       "  'Crimes contra a vida',\n",
       "  'Crimes contra a Honra',\n",
       "  'Crimes contra a liberdade pessoal',\n",
       "  'Crimes contra a inviolabilidade de domicílio',\n",
       "  'Crimes contra a inviolabilidade de correspondência',\n",
       "  'Crimes contra a inviolabilidade de segredo',\n",
       "  'Crimes contra o Patrimônio',\n",
       "  'Crimes contra a Propriedade Industrial',\n",
       "  'Crimes contra a Propriedade Intelectual',\n",
       "  'Crimes contra a Organização do Trabalho',\n",
       "  'Crimes contra o sentimento religioso e contra o respeito aos mortos',\n",
       "  'Crimes contra a Dignidade Sexual',\n",
       "  'Crimes contra a Família',\n",
       "  'Crimes Contra a Assistência Familiar',\n",
       "  'Crimes contra o Casamento',\n",
       "  'Crimes Contra o Estado de Filiação',\n",
       "  'Crime contra o Pátrio-Poder e Tutela',\n",
       "  'Crimes contra a Incolumidade Pública',\n",
       "  'Crimes contra a Paz Pública',\n",
       "  'Crimes contra a Fé Pública',\n",
       "  'Crimes Praticados por Funcionários Públicos Contra a Administração em Geral',\n",
       "  'Comunicação falsa de crime ou de contravenção ',\n",
       "  'Crimes Previstos na Legislação Extravagante',\n",
       "  'Crimes de Responsabilidade',\n",
       "  'Crimes contra a Economia Popular',\n",
       "  'Crimes de Abuso de Autoridade',\n",
       "  'Crimes de Tráfico Ilícito e Uso Indevido de Drogas',\n",
       "  'Crimes contra o Serviço Postal e o Serviço de Telegrama',\n",
       "  'Crimes contra a Segurança Nacional, a Ordem Política e Social',\n",
       "  'Crimes contra o Sistema Financeiro Nacional',\n",
       "  'Crimes Resultante de Preconceito de Raça ou de Cor',\n",
       "  'Crimes contra a Ordem Tributária',\n",
       "  'Crimes contra a Ordem Econômica',\n",
       "  'Crimes contra as Relações de Consumo',\n",
       "  'Crimes contra o Meio Ambiente e o Patrimônio Genético',\n",
       "  'Crimes contra a Fauna',\n",
       "  'Crimes contra a Flora',\n",
       "  'Crimes de &quot;Lavagem&quot; ou Ocultação de Bens, Direitos ou Valores',\n",
       "  'Crimes contra as Telecomunicações',\n",
       "  'Crimes Previstos na Lei de Estrangeiros',\n",
       "  'Crimes de Tortura',\n",
       "  'Crimes de Trânsito',\n",
       "  'Crimes do Sistema Nacional de Armas',\n",
       "  'Crimes de Imprensa',\n",
       "  'Crimes Previstos no Estatuto da criança e do adolescente',\n",
       "  'Crimes contra o mercado de capitais',\n",
       "  'Crimes de genocídio',\n",
       "  'Crimes da Lei de licitações',\n",
       "  'Crimes da Lei de remoção de órgãos e tecidos',\n",
       "  'Crimes praticados contra os índios e a cultura indígena',\n",
       "  'Crimes Agrários',\n",
       "  'Crimes relacionados à Comissão Parlamentar de Inquérito',\n",
       "  'Crimes Eleitorais',\n",
       "  'Crime de Quebra de Sigilo Financeiro',\n",
       "  'Crimes do Código Brasileiro de Telecomunicações',\n",
       "  'Crimes Previstos no Estatuto do Idoso',\n",
       "  'Crimes Falimentares',\n",
       "  'Crimes Militares',\n",
       "  'Crime Tentado',\n",
       "  'Crime Culposo',\n",
       "  'Incitação ao Crime',\n",
       "  'Apologia de Crime ou Criminoso',\n",
       "  'Crimes Praticados por Particular Contra a Administração em Geral',\n",
       "  'Crimes Praticados por Particular Contra a Administração Pública Estrangeira',\n",
       "  'Crimes Contra a Administração da Justiça',\n",
       "  'Crimes Contra as Finanças Públicas',\n",
       "  'Crimes contra Patente de Invenção',\n",
       "  'Crimes contra os Desenhos Industriais',\n",
       "  'Crimes contra as Marcas',\n",
       "  'Crimes Cometidos por Meio de Marca, Título de Estabelecimento e Sinal de Propaganda ',\n",
       "  'Crimes contra Indicações Geeográficas e Demais Indicações',\n",
       "  'Crimes de Concorrência Desleal',\n",
       "  'Crime Contra a Administração da Justiça - Lei da Ação de Alimentos ',\n",
       "  'Crimes Contra a Assistência Familiar',\n",
       "  'Crimes contra o Casamento',\n",
       "  'Crimes Contra o Estado de Filiação',\n",
       "  'Crime contra o Pátrio-Poder e Tutela',\n",
       "  'Incitação ao Crime',\n",
       "  'Apologia de Crime ou Criminoso',\n",
       "  'Análogo a Crime Tentado',\n",
       "  'Análogo a Crime Culposo',\n",
       "  'Comunicação falsa de crime ou de contravenção',\n",
       "  'Crimes Hediondos',\n",
       "  'Crime / Contravenção contra Criança / Adolescente',\n",
       "  'Crime / Contravenção contra Idoso',\n",
       "  'Crimes contra a Ordem Tributária praticado por Funcionário Público',\n",
       "  'Crime contra a administração ambiental',\n",
       "  'Crime de Desvio e/ou Circulação de Moeda Não Autorizada',\n",
       "  'Crime de Moeda Falsa Praticado por Funcionário Público',\n",
       "  'Crime Culposo',\n",
       "  'Crime em tempo de guerra',\n",
       "  'Crime Tentado',\n",
       "  'Crimes contra a Administração da Justiça Militar',\n",
       "  'Crimes contra a Administração Militar',\n",
       "  'Crimes contra a Autoridade ou Disciplina Militar',\n",
       "  'Crimes contra a Pessoa',\n",
       "  'Crimes contra a Segurança Externa do País',\n",
       "  'Crimes contra Incolumidade Pública',\n",
       "  'Crimes contra o Patrimônio',\n",
       "  'Crimes contra o Serviço Militar e o Dever Militar',\n",
       "  'Abandono de posto e de outros crimes em serviço',\n",
       "  'Crimes contra os Meios de Transporte e de Comunicação',\n",
       "  'Crimes de Perigo Comum',\n",
       "  'Crimes contra a Honra',\n",
       "  'Crimes contra a Liberdade',\n",
       "  'Crimes Sexuais',\n",
       "  'Crimes contra o dever funcional',\n",
       "  'Crimes praticados por particular contra a Administração Militar',\n",
       "  'Comunicação falsa de crime',\n",
       "  'Crimes contra portadores de deficiência',\n",
       "  'Crime/contravenção decorrente de conflito fundiário coletivo',\n",
       "  'Crimes Eleitorais',\n",
       "  'Crimes contra a Organização Administrativa da Justiça Eleitoral',\n",
       "  'Crimes contra o Serviço da Justiça Eleitoral',\n",
       "  'Crimes contra a Fé Pública Eleitoral',\n",
       "  'Crimes contra a Propaganda Eleitoral',\n",
       "  'Crimes contra o Sigilo ou o Exercício do Voto',\n",
       "  'Crimes contra os Partidos Políticos',\n",
       "  'Crimes contra o Ordenamento Urbano e o Patrimônio Cultural',\n",
       "  'Crimes Previstos no Estatuto do Torcedor',\n",
       "  'Crimes da Lei do Planejamento Familiar',\n",
       "  'Crimes Sobre Produção, Comércio e Transporte Clandestino de Açúcar e Álcool',\n",
       "  'Crime Relacionado à Exportação de Bens Sensíveis e Serviços Diretamente Relacionados',\n",
       "  'Crime da Lei Sobre Permissão de Lavra Garimpeira',\n",
       "  'Crimes da Lei que Proíbe Práticas Discriminatórias para Efeitos Trabalhistas',\n",
       "  'Crimes da Lei de Proteção à Propriedade Intelectual de Programa de Computador',\n",
       "  'Crimes da Lei de Locação de Imóveis Urbanos',\n",
       "  'Crimes da Lei Geral da Copa',\n",
       "  'Crimes do Estatuto do Torcedor',\n",
       "  'Crimes previstos na Lei da Organização Criminosa',\n",
       "  'Crimes ocorridos na investigação da prova',\n",
       "  'Crimes cometidos contra autoridade ou agente descrito nos arts. 142 e 143 da Constituição Federal, integrantes do sistema prisional e da Força Nacional de Segurança Pública',\n",
       "  'Omissão de comunicação de crime',\n",
       "  'Perda por crime contra titular do mesmo poder ou descendente (L. 13.715/2018)',\n",
       "  'Crimes Conexos',\n",
       "  'Policiais Civis',\n",
       "  'Controle Externo da atividade policial',\n",
       "  'Ato Infracional'])"
      ]
     },
     "execution_count": 111,
     "metadata": {},
     "output_type": "execute_result"
    }
   ],
   "source": [
    "criminal = [i for i in assuntos.descricao.values if 'crimin' in i.lower()]\n",
    "criminal += [i for i in assuntos.descricao.values if 'penal' in i.lower()]\n",
    "criminal += [i for i in assuntos.descricao.values if 'pris' in i.lower()]\n",
    "criminal += [i for i in assuntos.descricao.values if 'circuns' in i.lower()]\n",
    "criminal += [i for i in assuntos.descricao.values if 'pena' in i.lower()]\n",
    "criminal += [i for i in assuntos.descricao.values if 'crime' in i.lower()]\n",
    "criminal += [i for i in assuntos.descricao.values if 'policia' in i.lower()]\n",
    "criminal += [i for i in assuntos.descricao.values if 'ato infracional' in i.lower()]\n",
    "len(criminal), criminal\n"
   ]
  },
  {
   "cell_type": "code",
   "execution_count": 112,
   "metadata": {},
   "outputs": [
    {
     "name": "stdout",
     "output_type": "stream",
     "text": [
      "(925986, 44)\n",
      "(925979, 44)\n",
      "(925924, 44)\n",
      "(925580, 44)\n",
      "(925568, 44)\n",
      "(925568, 44)\n",
      "(925568, 44)\n"
     ]
    }
   ],
   "source": [
    "print(df.shape)\n",
    "df = df[~df.assunto_principal.isin(criminal)]\n",
    "print(df.shape)\n",
    "for i in range(1,6):\n",
    "    df = df[~df[f'assunto_pai_{i}'].isin(criminal)]\n",
    "    print(df.shape)"
   ]
  },
  {
   "cell_type": "code",
   "execution_count": 118,
   "metadata": {},
   "outputs": [
    {
     "data": {
      "text/plain": [
       "DIREITO TRIBUTÁRIO    24\n",
       "Name: assunto_pai_5, dtype: int64"
      ]
     },
     "execution_count": 118,
     "metadata": {},
     "output_type": "execute_result"
    }
   ],
   "source": [
    "df['assunto_pai_5'].value_counts().tail(10)"
   ]
  },
  {
   "cell_type": "code",
   "execution_count": 120,
   "metadata": {},
   "outputs": [
    {
     "data": {
      "text/plain": [
       "float"
      ]
     },
     "execution_count": 120,
     "metadata": {},
     "output_type": "execute_result"
    }
   ],
   "source": [
    "type(df['assunto_pai_5'].iloc[10])"
   ]
  },
  {
   "cell_type": "code",
   "execution_count": 142,
   "metadata": {},
   "outputs": [],
   "source": [
    "for col in ['codigo_assunto_pai_5', 'codigo_assunto_pai_4', 'codigo_assunto_pai_3', 'codigo_assunto_pai_2', 'codigo_assunto_pai_1', 'codigo_assunto_principal']:\n",
    "    df[col] = df[col].astype('Int64')"
   ]
  },
  {
   "cell_type": "code",
   "execution_count": 193,
   "metadata": {},
   "outputs": [],
   "source": [
    "from functools import partial\n",
    "\n",
    "def get_assunto_nivel_x(row, nivel):\n",
    "    contador = 0\n",
    "    for i in ['codigo_assunto_pai_5', 'codigo_assunto_pai_4', 'codigo_assunto_pai_3', 'codigo_assunto_pai_2', 'codigo_assunto_pai_1', 'codigo_assunto_principal']:\n",
    "        assunto = row[i]\n",
    "        if type(assunto) != pd._libs.missing.NAType:\n",
    "            contador += 1\n",
    "            if contador == nivel:\n",
    "                #print(i)\n",
    "                return assunto\n",
    "\n",
    "\n",
    "nivel_1 = partial(get_assunto_nivel_x, nivel=1)      \n",
    "nivel_2 = partial(get_assunto_nivel_x, nivel=2)\n",
    "nivel_3 = partial(get_assunto_nivel_x, nivel=3)\n",
    "nivel_4 = partial(get_assunto_nivel_x, nivel=4)\n",
    "nivel_5 = partial(get_assunto_nivel_x, nivel=5)\n",
    "nivel_6 = partial(get_assunto_nivel_x, nivel=6)"
   ]
  },
  {
   "cell_type": "code",
   "execution_count": 195,
   "metadata": {},
   "outputs": [],
   "source": [
    "df['codigo_assunto_nivel_1'] = df.apply(nivel_1, axis=1)"
   ]
  },
  {
   "cell_type": "code",
   "execution_count": 196,
   "metadata": {},
   "outputs": [],
   "source": [
    "df['codigo_assunto_nivel_2'] = df.apply(nivel_2, axis=1)"
   ]
  },
  {
   "cell_type": "code",
   "execution_count": 197,
   "metadata": {},
   "outputs": [],
   "source": [
    "df['codigo_assunto_nivel_3'] = df.apply(nivel_3, axis=1)"
   ]
  },
  {
   "cell_type": "code",
   "execution_count": 198,
   "metadata": {},
   "outputs": [],
   "source": [
    "df['codigo_assunto_nivel_4'] = df.apply(nivel_4, axis=1)"
   ]
  },
  {
   "cell_type": "code",
   "execution_count": 199,
   "metadata": {},
   "outputs": [],
   "source": [
    "df['codigo_assunto_nivel_5'] = df.apply(nivel_5, axis=1)"
   ]
  },
  {
   "cell_type": "code",
   "execution_count": 200,
   "metadata": {},
   "outputs": [],
   "source": [
    "df['codigo_assunto_nivel_6'] = df.apply(nivel_6, axis=1)"
   ]
  },
  {
   "cell_type": "code",
   "execution_count": 204,
   "metadata": {},
   "outputs": [],
   "source": [
    "df['assunto_nivel_1'] = df['codigo_assunto_nivel_1'].map(dict_assuntos)\n",
    "df['assunto_nivel_2'] = df['codigo_assunto_nivel_2'].map(dict_assuntos)\n",
    "df['assunto_nivel_3'] = df['codigo_assunto_nivel_3'].map(dict_assuntos)\n",
    "df['assunto_nivel_4'] = df['codigo_assunto_nivel_4'].map(dict_assuntos)\n",
    "df['assunto_nivel_5'] = df['codigo_assunto_nivel_5'].map(dict_assuntos)\n",
    "df['assunto_nivel_6'] = df['codigo_assunto_nivel_6'].map(dict_assuntos)"
   ]
  },
  {
   "cell_type": "code",
   "execution_count": 205,
   "metadata": {},
   "outputs": [
    {
     "name": "stdout",
     "output_type": "stream",
     "text": [
      "<class 'pandas.core.frame.DataFrame'>\n",
      "Int64Index: 925568 entries, 0 to 936924\n",
      "Data columns (total 56 columns):\n",
      " #   Column                                          Non-Null Count   Dtype         \n",
      "---  ------                                          --------------   -----         \n",
      " 0   siglaTribunal                                   925568 non-null  object        \n",
      " 1   movimento                                       903730 non-null  object        \n",
      " 2   grau                                            925568 non-null  object        \n",
      " 3   dadosBasicos.valorCausa                         597244 non-null  float64       \n",
      " 4   dadosBasicos.numero                             925568 non-null  object        \n",
      " 5   dadosBasicos.procEl                             717635 non-null  float64       \n",
      " 6   dadosBasicos.competencia                        291123 non-null  object        \n",
      " 7   dadosBasicos.codigoLocalidade                   925568 non-null  object        \n",
      " 8   dadosBasicos.assunto                            920715 non-null  object        \n",
      " 9   dadosBasicos.dscSistema                         690558 non-null  object        \n",
      " 10  dadosBasicos.tamanhoProcesso                    149101 non-null  object        \n",
      " 11  dadosBasicos.dataAjuizamento                    925568 non-null  object        \n",
      " 12  dadosBasicos.totalAssuntos                      837808 non-null  float64       \n",
      " 13  dadosBasicos.nivelSigilo                        925568 non-null  int64         \n",
      " 14  dadosBasicos.classeProcessual                   925568 non-null  int64         \n",
      " 15  dadosBasicos.orgaoJulgador.nomeOrgao            924924 non-null  object        \n",
      " 16  dadosBasicos.orgaoJulgador.codigoMunicipioIBGE  925568 non-null  int64         \n",
      " 17  dadosBasicos.orgaoJulgador.codigoOrgao          925568 non-null  object        \n",
      " 18  dadosBasicos.orgaoJulgador.instancia            925568 non-null  object        \n",
      " 19  ano_ajuizamento                                 925568 non-null  object        \n",
      " 20  ano_numero                                      925568 non-null  int64         \n",
      " 21  ano_ok                                          925568 non-null  int64         \n",
      " 22  data_primeira_sentenca                          925568 non-null  object        \n",
      " 23  codigo_primeira_sentenca                        925568 non-null  int64         \n",
      " 24  data_arquivamento                               925568 non-null  object        \n",
      " 25  codigo_arquivamento                             925568 non-null  int64         \n",
      " 26  codigo_assunto_principal                        925541 non-null  Int64         \n",
      " 27  data_ajuizamento_ok                             922954 non-null  datetime64[ns]\n",
      " 28  data_arquivamento_ok                            111041 non-null  datetime64[ns]\n",
      " 29  n_dias_ate_arquivamento                         110729 non-null  float64       \n",
      " 30  data_primeira_sentenca_ok                       313779 non-null  datetime64[ns]\n",
      " 31  n_dias_ate_sentenca                             313749 non-null  float64       \n",
      " 32  problema_na_data_ajuizamento                    925568 non-null  int64         \n",
      " 33  codigo_assunto_pai_1                            869981 non-null  Int64         \n",
      " 34  codigo_assunto_pai_2                            796845 non-null  Int64         \n",
      " 35  codigo_assunto_pai_3                            407700 non-null  Int64         \n",
      " 36  assunto_principal                               919981 non-null  object        \n",
      " 37  assunto_pai_1                                   869981 non-null  object        \n",
      " 38  assunto_pai_2                                   796845 non-null  object        \n",
      " 39  assunto_pai_3                                   407700 non-null  object        \n",
      " 40  codigo_assunto_pai_4                            18644 non-null   Int64         \n",
      " 41  assunto_pai_4                                   18644 non-null   object        \n",
      " 42  codigo_assunto_pai_5                            24 non-null      Int64         \n",
      " 43  assunto_pai_5                                   24 non-null      object        \n",
      " 44  codigo_assunto_nivel_1                          925541 non-null  float64       \n",
      " 45  codigo_assunto_nivel_2                          869981 non-null  float64       \n",
      " 46  codigo_assunto_nivel_3                          796845 non-null  float64       \n",
      " 47  codigo_assunto_nivel_4                          407700 non-null  float64       \n",
      " 48  codigo_assunto_nivel_5                          18644 non-null   float64       \n",
      " 49  codigo_assunto_nivel_6                          24 non-null      float64       \n",
      " 50  assunto_nivel_1                                 919981 non-null  object        \n",
      " 51  assunto_nivel_2                                 869981 non-null  object        \n",
      " 52  assunto_nivel_3                                 796845 non-null  object        \n",
      " 53  assunto_nivel_4                                 407700 non-null  object        \n",
      " 54  assunto_nivel_5                                 18644 non-null   object        \n",
      " 55  assunto_nivel_6                                 24 non-null      object        \n",
      "dtypes: Int64(6), datetime64[ns](3), float64(11), int64(8), object(28)\n",
      "memory usage: 407.8+ MB\n"
     ]
    }
   ],
   "source": [
    "df.info()"
   ]
  },
  {
   "cell_type": "code",
   "execution_count": 214,
   "metadata": {},
   "outputs": [],
   "source": [
    "def get_string_assunto(row):\n",
    "    colunas = ['assunto_nivel_1', 'assunto_nivel_2', 'assunto_nivel_3' ]\n",
    "    assuntos = []\n",
    "    \n",
    "    for col in colunas:\n",
    "        assunto = row[col]\n",
    "        if type(assunto) != float:\n",
    "            assuntos.append(assunto)\n",
    "            \n",
    "    return ' --> '.join([i.strip() for i in assuntos])"
   ]
  },
  {
   "cell_type": "code",
   "execution_count": 216,
   "metadata": {},
   "outputs": [],
   "source": [
    "df['string_assunto_principal_3_niveis'] = df.apply(get_string_assunto, axis=1)"
   ]
  },
  {
   "cell_type": "code",
   "execution_count": 217,
   "metadata": {},
   "outputs": [
    {
     "data": {
      "text/plain": [
       "DIREITO DO TRABALHO --> Rescisão do Contrato de Trabalho --> Verbas Rescisórias                                                  141189\n",
       "DIREITO CIVIL --> Obrigações --> Espécies de Contratos                                                                            61231\n",
       "DIREITO CIVIL --> Obrigações --> Espécies de Títulos de Crédito                                                                   36186\n",
       "DIREITO DO TRABALHO                                                                                                               27642\n",
       "DIREITO ADMINISTRATIVO E OUTRAS MATÉRIAS DE DIREITO PÚBLICO --> Servidor Público Civil --> Sistema Remuneratório e Benefícios     24314\n",
       "DIREITO DO TRABALHO --> Responsabilidade Civil do Empregador --> Indenizaçao por Dano Moral                                       19493\n",
       "DIREITO CIVIL --> Responsabilidade Civil --> Indenização por Dano Moral                                                           18543\n",
       "DIREITO CIVIL --> Coisas --> Propriedade                                                                                          18190\n",
       "DIREITO DO CONSUMIDOR --> Responsabilidade do Fornecedor --> Indenização por Dano Moral                                           17249\n",
       "DIREITO CIVIL --> Obrigações --> Inadimplemento                                                                                   16550\n",
       "Name: string_assunto_principal_3_niveis, dtype: int64"
      ]
     },
     "execution_count": 217,
     "metadata": {},
     "output_type": "execute_result"
    }
   ],
   "source": [
    "df['string_assunto_principal_3_niveis'].value_counts().head(10)"
   ]
  },
  {
   "cell_type": "code",
   "execution_count": 218,
   "metadata": {},
   "outputs": [],
   "source": [
    "remover = ['codigo_assunto_pai_5', 'codigo_assunto_pai_4', 'codigo_assunto_pai_3', 'codigo_assunto_pai_2', 'codigo_assunto_pai_1', \n",
    " 'assunto_pai_5', 'assunto_pai_4', 'assunto_pai_3', 'assunto_pai_2', 'assunto_pai_1']"
   ]
  },
  {
   "cell_type": "code",
   "execution_count": 221,
   "metadata": {},
   "outputs": [],
   "source": [
    "df.drop(remover, axis=1, inplace=True)"
   ]
  },
  {
   "cell_type": "code",
   "execution_count": 224,
   "metadata": {},
   "outputs": [
    {
     "data": {
      "text/plain": [
       "DIREITO TRIBUTÁRIO                                             19625\n",
       "DIREITO ASSISTENCIAL                                            4113\n",
       "REGISTROS PÚBLICOS                                              3111\n",
       "DIREITO DA SAÚDE                                                1998\n",
       "QUESTÕES DE ALTA COMPLEXIDADE, GRANDE IMPACTO E REPERCUSSÃO     1795\n",
       "DIREITO DA CRIANÇA E DO ADOLESCENTE                              200\n",
       "DIREITO ELEITORAL                                                177\n",
       "DIREITO INTERNACIONAL                                            119\n",
       "DIREITO MARÍTIMO                                                  29\n",
       "DIREITO ELEITORAL E PROCESSO ELEITORAL DO STF                     10\n",
       "Name: assunto_nivel_1, dtype: int64"
      ]
     },
     "execution_count": 224,
     "metadata": {},
     "output_type": "execute_result"
    }
   ],
   "source": [
    "df.assunto_nivel_1.value_counts().tail(10)"
   ]
  },
  {
   "cell_type": "code",
   "execution_count": 222,
   "metadata": {},
   "outputs": [
    {
     "data": {
      "text/html": [
       "<div>\n",
       "<style scoped>\n",
       "    .dataframe tbody tr th:only-of-type {\n",
       "        vertical-align: middle;\n",
       "    }\n",
       "\n",
       "    .dataframe tbody tr th {\n",
       "        vertical-align: top;\n",
       "    }\n",
       "\n",
       "    .dataframe thead th {\n",
       "        text-align: right;\n",
       "    }\n",
       "</style>\n",
       "<table border=\"1\" class=\"dataframe\">\n",
       "  <thead>\n",
       "    <tr style=\"text-align: right;\">\n",
       "      <th></th>\n",
       "      <th>siglaTribunal</th>\n",
       "      <th>movimento</th>\n",
       "      <th>grau</th>\n",
       "      <th>dadosBasicos.valorCausa</th>\n",
       "      <th>dadosBasicos.numero</th>\n",
       "      <th>dadosBasicos.procEl</th>\n",
       "      <th>dadosBasicos.competencia</th>\n",
       "      <th>dadosBasicos.codigoLocalidade</th>\n",
       "      <th>dadosBasicos.assunto</th>\n",
       "      <th>dadosBasicos.dscSistema</th>\n",
       "      <th>dadosBasicos.tamanhoProcesso</th>\n",
       "      <th>dadosBasicos.dataAjuizamento</th>\n",
       "      <th>dadosBasicos.totalAssuntos</th>\n",
       "      <th>dadosBasicos.nivelSigilo</th>\n",
       "      <th>dadosBasicos.classeProcessual</th>\n",
       "      <th>dadosBasicos.orgaoJulgador.nomeOrgao</th>\n",
       "      <th>dadosBasicos.orgaoJulgador.codigoMunicipioIBGE</th>\n",
       "      <th>dadosBasicos.orgaoJulgador.codigoOrgao</th>\n",
       "      <th>dadosBasicos.orgaoJulgador.instancia</th>\n",
       "      <th>ano_ajuizamento</th>\n",
       "      <th>ano_numero</th>\n",
       "      <th>ano_ok</th>\n",
       "      <th>data_primeira_sentenca</th>\n",
       "      <th>codigo_primeira_sentenca</th>\n",
       "      <th>data_arquivamento</th>\n",
       "      <th>codigo_arquivamento</th>\n",
       "      <th>codigo_assunto_principal</th>\n",
       "      <th>data_ajuizamento_ok</th>\n",
       "      <th>data_arquivamento_ok</th>\n",
       "      <th>n_dias_ate_arquivamento</th>\n",
       "      <th>data_primeira_sentenca_ok</th>\n",
       "      <th>n_dias_ate_sentenca</th>\n",
       "      <th>problema_na_data_ajuizamento</th>\n",
       "      <th>assunto_principal</th>\n",
       "      <th>codigo_assunto_nivel_1</th>\n",
       "      <th>codigo_assunto_nivel_2</th>\n",
       "      <th>codigo_assunto_nivel_3</th>\n",
       "      <th>codigo_assunto_nivel_4</th>\n",
       "      <th>codigo_assunto_nivel_5</th>\n",
       "      <th>codigo_assunto_nivel_6</th>\n",
       "      <th>assunto_nivel_1</th>\n",
       "      <th>assunto_nivel_2</th>\n",
       "      <th>assunto_nivel_3</th>\n",
       "      <th>assunto_nivel_4</th>\n",
       "      <th>assunto_nivel_5</th>\n",
       "      <th>assunto_nivel_6</th>\n",
       "      <th>string_assunto_principal_3_niveis</th>\n",
       "    </tr>\n",
       "  </thead>\n",
       "  <tbody>\n",
       "    <tr>\n",
       "      <th>0</th>\n",
       "      <td>TRT4</td>\n",
       "      <td>[{'identificadorMovimento': '52034597', 'tipoR...</td>\n",
       "      <td>G1</td>\n",
       "      <td>35300.00</td>\n",
       "      <td>00202133320205040020</td>\n",
       "      <td>1.0</td>\n",
       "      <td>NaN</td>\n",
       "      <td>4314902</td>\n",
       "      <td>[{'principal': True, 'assuntoLocal': None, 'co...</td>\n",
       "      <td>1</td>\n",
       "      <td>NaN</td>\n",
       "      <td>20200318002109</td>\n",
       "      <td>10.0</td>\n",
       "      <td>0</td>\n",
       "      <td>1125</td>\n",
       "      <td>20ª Porto Alegre</td>\n",
       "      <td>4314902</td>\n",
       "      <td>46964</td>\n",
       "      <td>ORIG</td>\n",
       "      <td>2020</td>\n",
       "      <td>2020</td>\n",
       "      <td>2020</td>\n",
       "      <td>SEM MOVIMENTO</td>\n",
       "      <td>-1</td>\n",
       "      <td>SEM MOVIMENTO</td>\n",
       "      <td>-1</td>\n",
       "      <td>10655</td>\n",
       "      <td>2020-03-18</td>\n",
       "      <td>NaT</td>\n",
       "      <td>NaN</td>\n",
       "      <td>NaT</td>\n",
       "      <td>NaN</td>\n",
       "      <td>0</td>\n",
       "      <td>Honorários Advocatícios</td>\n",
       "      <td>8826.0</td>\n",
       "      <td>8842.0</td>\n",
       "      <td>8874.0</td>\n",
       "      <td>10655.0</td>\n",
       "      <td>NaN</td>\n",
       "      <td>NaN</td>\n",
       "      <td>DIREITO PROCESSUAL CIVIL E DO TRABALHO</td>\n",
       "      <td>Partes e Procuradores</td>\n",
       "      <td>Sucumbência</td>\n",
       "      <td>Honorários Advocatícios</td>\n",
       "      <td>NaN</td>\n",
       "      <td>NaN</td>\n",
       "      <td>DIREITO PROCESSUAL CIVIL E DO TRABALHO --&gt; Par...</td>\n",
       "    </tr>\n",
       "    <tr>\n",
       "      <th>1</th>\n",
       "      <td>TRT4</td>\n",
       "      <td>[{'identificadorMovimento': '52036527', 'tipoR...</td>\n",
       "      <td>G1</td>\n",
       "      <td>97000.00</td>\n",
       "      <td>00202875720205040030</td>\n",
       "      <td>1.0</td>\n",
       "      <td>NaN</td>\n",
       "      <td>4314902</td>\n",
       "      <td>[{'principal': False, 'assuntoLocal': None, 'c...</td>\n",
       "      <td>1</td>\n",
       "      <td>NaN</td>\n",
       "      <td>20200318002308</td>\n",
       "      <td>8.0</td>\n",
       "      <td>0</td>\n",
       "      <td>985</td>\n",
       "      <td>30ª Porto Alegre</td>\n",
       "      <td>4314902</td>\n",
       "      <td>46974</td>\n",
       "      <td>ORIG</td>\n",
       "      <td>2020</td>\n",
       "      <td>2020</td>\n",
       "      <td>2020</td>\n",
       "      <td>SEM MOVIMENTO</td>\n",
       "      <td>-1</td>\n",
       "      <td>SEM MOVIMENTO</td>\n",
       "      <td>-1</td>\n",
       "      <td>2569</td>\n",
       "      <td>2020-03-18</td>\n",
       "      <td>NaT</td>\n",
       "      <td>NaN</td>\n",
       "      <td>NaT</td>\n",
       "      <td>NaN</td>\n",
       "      <td>0</td>\n",
       "      <td>Acidente de Trabalho</td>\n",
       "      <td>864.0</td>\n",
       "      <td>2567.0</td>\n",
       "      <td>1855.0</td>\n",
       "      <td>2569.0</td>\n",
       "      <td>NaN</td>\n",
       "      <td>NaN</td>\n",
       "      <td>DIREITO DO TRABALHO</td>\n",
       "      <td>Responsabilidade Civil do Empregador</td>\n",
       "      <td>Indenizaçao por Dano Moral</td>\n",
       "      <td>Acidente de Trabalho</td>\n",
       "      <td>NaN</td>\n",
       "      <td>NaN</td>\n",
       "      <td>DIREITO DO TRABALHO --&gt; Responsabilidade Civil...</td>\n",
       "    </tr>\n",
       "    <tr>\n",
       "      <th>2</th>\n",
       "      <td>TRT4</td>\n",
       "      <td>[{'identificadorMovimento': '52041238', 'tipoR...</td>\n",
       "      <td>G1</td>\n",
       "      <td>14244.46</td>\n",
       "      <td>00202360920205040204</td>\n",
       "      <td>1.0</td>\n",
       "      <td>NaN</td>\n",
       "      <td>4304606</td>\n",
       "      <td>[{'principal': False, 'assuntoLocal': None, 'c...</td>\n",
       "      <td>1</td>\n",
       "      <td>NaN</td>\n",
       "      <td>20200318010510</td>\n",
       "      <td>5.0</td>\n",
       "      <td>0</td>\n",
       "      <td>985</td>\n",
       "      <td>4ª Canoas</td>\n",
       "      <td>4304606</td>\n",
       "      <td>46894</td>\n",
       "      <td>ORIG</td>\n",
       "      <td>2020</td>\n",
       "      <td>2020</td>\n",
       "      <td>2020</td>\n",
       "      <td>SEM MOVIMENTO</td>\n",
       "      <td>-1</td>\n",
       "      <td>SEM MOVIMENTO</td>\n",
       "      <td>-1</td>\n",
       "      <td>6065</td>\n",
       "      <td>2020-03-18</td>\n",
       "      <td>NaT</td>\n",
       "      <td>NaN</td>\n",
       "      <td>NaT</td>\n",
       "      <td>NaN</td>\n",
       "      <td>0</td>\n",
       "      <td>Hora Extra</td>\n",
       "      <td>14.0</td>\n",
       "      <td>6031.0</td>\n",
       "      <td>6048.0</td>\n",
       "      <td>6065.0</td>\n",
       "      <td>NaN</td>\n",
       "      <td>NaN</td>\n",
       "      <td>DIREITO TRIBUTÁRIO</td>\n",
       "      <td>Contribuições</td>\n",
       "      <td>Contribuições Previdenciárias</td>\n",
       "      <td>Hora Extra</td>\n",
       "      <td>NaN</td>\n",
       "      <td>NaN</td>\n",
       "      <td>DIREITO TRIBUTÁRIO --&gt; Contribuições --&gt; Contr...</td>\n",
       "    </tr>\n",
       "    <tr>\n",
       "      <th>3</th>\n",
       "      <td>TRT4</td>\n",
       "      <td>[{'identificadorMovimento': '52041704', 'tipoR...</td>\n",
       "      <td>G1</td>\n",
       "      <td>10000.00</td>\n",
       "      <td>00201675020205040406</td>\n",
       "      <td>1.0</td>\n",
       "      <td>NaN</td>\n",
       "      <td>4305108</td>\n",
       "      <td>[{'principal': True, 'codigoNacional': 9163}]</td>\n",
       "      <td>1</td>\n",
       "      <td>NaN</td>\n",
       "      <td>20200318081723</td>\n",
       "      <td>1.0</td>\n",
       "      <td>0</td>\n",
       "      <td>37</td>\n",
       "      <td>6ª Caxias do Sul</td>\n",
       "      <td>4305108</td>\n",
       "      <td>46902</td>\n",
       "      <td>ORIG</td>\n",
       "      <td>2020</td>\n",
       "      <td>2020</td>\n",
       "      <td>2020</td>\n",
       "      <td>SEM MOVIMENTO</td>\n",
       "      <td>-1</td>\n",
       "      <td>SEM MOVIMENTO</td>\n",
       "      <td>-1</td>\n",
       "      <td>9163</td>\n",
       "      <td>2020-03-18</td>\n",
       "      <td>NaT</td>\n",
       "      <td>NaN</td>\n",
       "      <td>NaT</td>\n",
       "      <td>NaN</td>\n",
       "      <td>0</td>\n",
       "      <td>Penhora / Depósito/ Avaliação</td>\n",
       "      <td>8826.0</td>\n",
       "      <td>9148.0</td>\n",
       "      <td>9163.0</td>\n",
       "      <td>NaN</td>\n",
       "      <td>NaN</td>\n",
       "      <td>NaN</td>\n",
       "      <td>DIREITO PROCESSUAL CIVIL E DO TRABALHO</td>\n",
       "      <td>Liquidação / Cumprimento / Execução</td>\n",
       "      <td>Penhora / Depósito/ Avaliação</td>\n",
       "      <td>NaN</td>\n",
       "      <td>NaN</td>\n",
       "      <td>NaN</td>\n",
       "      <td>DIREITO PROCESSUAL CIVIL E DO TRABALHO --&gt; Liq...</td>\n",
       "    </tr>\n",
       "    <tr>\n",
       "      <th>4</th>\n",
       "      <td>TRT4</td>\n",
       "      <td>[{'identificadorMovimento': '52041887', 'tipoR...</td>\n",
       "      <td>G1</td>\n",
       "      <td>15000.00</td>\n",
       "      <td>00201019320205040851</td>\n",
       "      <td>1.0</td>\n",
       "      <td>NaN</td>\n",
       "      <td>4317103</td>\n",
       "      <td>[{'principal': True, 'assuntoLocal': None, 'co...</td>\n",
       "      <td>1</td>\n",
       "      <td>NaN</td>\n",
       "      <td>20200318083036</td>\n",
       "      <td>2.0</td>\n",
       "      <td>0</td>\n",
       "      <td>193</td>\n",
       "      <td>VT Santana do Livramento</td>\n",
       "      <td>4317103</td>\n",
       "      <td>46985</td>\n",
       "      <td>ORIG</td>\n",
       "      <td>2020</td>\n",
       "      <td>2020</td>\n",
       "      <td>2020</td>\n",
       "      <td>SEM MOVIMENTO</td>\n",
       "      <td>-1</td>\n",
       "      <td>SEM MOVIMENTO</td>\n",
       "      <td>-1</td>\n",
       "      <td>10254</td>\n",
       "      <td>2020-03-18</td>\n",
       "      <td>NaT</td>\n",
       "      <td>NaN</td>\n",
       "      <td>NaT</td>\n",
       "      <td>NaN</td>\n",
       "      <td>0</td>\n",
       "      <td>Aposentadoria</td>\n",
       "      <td>9985.0</td>\n",
       "      <td>10219.0</td>\n",
       "      <td>10254.0</td>\n",
       "      <td>NaN</td>\n",
       "      <td>NaN</td>\n",
       "      <td>NaN</td>\n",
       "      <td>DIREITO ADMINISTRATIVO E OUTRAS MATÉRIAS DE DI...</td>\n",
       "      <td>Servidor Público Civil</td>\n",
       "      <td>Aposentadoria</td>\n",
       "      <td>NaN</td>\n",
       "      <td>NaN</td>\n",
       "      <td>NaN</td>\n",
       "      <td>DIREITO ADMINISTRATIVO E OUTRAS MATÉRIAS DE DI...</td>\n",
       "    </tr>\n",
       "  </tbody>\n",
       "</table>\n",
       "</div>"
      ],
      "text/plain": [
       "  siglaTribunal                                          movimento grau  \\\n",
       "0          TRT4  [{'identificadorMovimento': '52034597', 'tipoR...   G1   \n",
       "1          TRT4  [{'identificadorMovimento': '52036527', 'tipoR...   G1   \n",
       "2          TRT4  [{'identificadorMovimento': '52041238', 'tipoR...   G1   \n",
       "3          TRT4  [{'identificadorMovimento': '52041704', 'tipoR...   G1   \n",
       "4          TRT4  [{'identificadorMovimento': '52041887', 'tipoR...   G1   \n",
       "\n",
       "   dadosBasicos.valorCausa   dadosBasicos.numero  dadosBasicos.procEl  \\\n",
       "0                 35300.00  00202133320205040020                  1.0   \n",
       "1                 97000.00  00202875720205040030                  1.0   \n",
       "2                 14244.46  00202360920205040204                  1.0   \n",
       "3                 10000.00  00201675020205040406                  1.0   \n",
       "4                 15000.00  00201019320205040851                  1.0   \n",
       "\n",
       "  dadosBasicos.competencia dadosBasicos.codigoLocalidade  \\\n",
       "0                      NaN                       4314902   \n",
       "1                      NaN                       4314902   \n",
       "2                      NaN                       4304606   \n",
       "3                      NaN                       4305108   \n",
       "4                      NaN                       4317103   \n",
       "\n",
       "                                dadosBasicos.assunto dadosBasicos.dscSistema  \\\n",
       "0  [{'principal': True, 'assuntoLocal': None, 'co...                       1   \n",
       "1  [{'principal': False, 'assuntoLocal': None, 'c...                       1   \n",
       "2  [{'principal': False, 'assuntoLocal': None, 'c...                       1   \n",
       "3      [{'principal': True, 'codigoNacional': 9163}]                       1   \n",
       "4  [{'principal': True, 'assuntoLocal': None, 'co...                       1   \n",
       "\n",
       "  dadosBasicos.tamanhoProcesso dadosBasicos.dataAjuizamento  \\\n",
       "0                          NaN               20200318002109   \n",
       "1                          NaN               20200318002308   \n",
       "2                          NaN               20200318010510   \n",
       "3                          NaN               20200318081723   \n",
       "4                          NaN               20200318083036   \n",
       "\n",
       "   dadosBasicos.totalAssuntos  dadosBasicos.nivelSigilo  \\\n",
       "0                        10.0                         0   \n",
       "1                         8.0                         0   \n",
       "2                         5.0                         0   \n",
       "3                         1.0                         0   \n",
       "4                         2.0                         0   \n",
       "\n",
       "   dadosBasicos.classeProcessual dadosBasicos.orgaoJulgador.nomeOrgao  \\\n",
       "0                           1125                     20ª Porto Alegre   \n",
       "1                            985                     30ª Porto Alegre   \n",
       "2                            985                            4ª Canoas   \n",
       "3                             37                     6ª Caxias do Sul   \n",
       "4                            193             VT Santana do Livramento   \n",
       "\n",
       "   dadosBasicos.orgaoJulgador.codigoMunicipioIBGE  \\\n",
       "0                                         4314902   \n",
       "1                                         4314902   \n",
       "2                                         4304606   \n",
       "3                                         4305108   \n",
       "4                                         4317103   \n",
       "\n",
       "  dadosBasicos.orgaoJulgador.codigoOrgao dadosBasicos.orgaoJulgador.instancia  \\\n",
       "0                                  46964                                 ORIG   \n",
       "1                                  46974                                 ORIG   \n",
       "2                                  46894                                 ORIG   \n",
       "3                                  46902                                 ORIG   \n",
       "4                                  46985                                 ORIG   \n",
       "\n",
       "  ano_ajuizamento  ano_numero  ano_ok data_primeira_sentenca  \\\n",
       "0            2020        2020    2020          SEM MOVIMENTO   \n",
       "1            2020        2020    2020          SEM MOVIMENTO   \n",
       "2            2020        2020    2020          SEM MOVIMENTO   \n",
       "3            2020        2020    2020          SEM MOVIMENTO   \n",
       "4            2020        2020    2020          SEM MOVIMENTO   \n",
       "\n",
       "   codigo_primeira_sentenca data_arquivamento  codigo_arquivamento  \\\n",
       "0                        -1     SEM MOVIMENTO                   -1   \n",
       "1                        -1     SEM MOVIMENTO                   -1   \n",
       "2                        -1     SEM MOVIMENTO                   -1   \n",
       "3                        -1     SEM MOVIMENTO                   -1   \n",
       "4                        -1     SEM MOVIMENTO                   -1   \n",
       "\n",
       "   codigo_assunto_principal data_ajuizamento_ok data_arquivamento_ok  \\\n",
       "0                     10655          2020-03-18                  NaT   \n",
       "1                      2569          2020-03-18                  NaT   \n",
       "2                      6065          2020-03-18                  NaT   \n",
       "3                      9163          2020-03-18                  NaT   \n",
       "4                     10254          2020-03-18                  NaT   \n",
       "\n",
       "   n_dias_ate_arquivamento data_primeira_sentenca_ok  n_dias_ate_sentenca  \\\n",
       "0                      NaN                       NaT                  NaN   \n",
       "1                      NaN                       NaT                  NaN   \n",
       "2                      NaN                       NaT                  NaN   \n",
       "3                      NaN                       NaT                  NaN   \n",
       "4                      NaN                       NaT                  NaN   \n",
       "\n",
       "   problema_na_data_ajuizamento               assunto_principal  \\\n",
       "0                             0         Honorários Advocatícios   \n",
       "1                             0            Acidente de Trabalho   \n",
       "2                             0                      Hora Extra   \n",
       "3                             0  Penhora / Depósito/ Avaliação    \n",
       "4                             0                   Aposentadoria   \n",
       "\n",
       "   codigo_assunto_nivel_1  codigo_assunto_nivel_2  codigo_assunto_nivel_3  \\\n",
       "0                  8826.0                  8842.0                  8874.0   \n",
       "1                   864.0                  2567.0                  1855.0   \n",
       "2                    14.0                  6031.0                  6048.0   \n",
       "3                  8826.0                  9148.0                  9163.0   \n",
       "4                  9985.0                 10219.0                 10254.0   \n",
       "\n",
       "   codigo_assunto_nivel_4  codigo_assunto_nivel_5  codigo_assunto_nivel_6  \\\n",
       "0                 10655.0                     NaN                     NaN   \n",
       "1                  2569.0                     NaN                     NaN   \n",
       "2                  6065.0                     NaN                     NaN   \n",
       "3                     NaN                     NaN                     NaN   \n",
       "4                     NaN                     NaN                     NaN   \n",
       "\n",
       "                                     assunto_nivel_1  \\\n",
       "0             DIREITO PROCESSUAL CIVIL E DO TRABALHO   \n",
       "1                                DIREITO DO TRABALHO   \n",
       "2                                 DIREITO TRIBUTÁRIO   \n",
       "3             DIREITO PROCESSUAL CIVIL E DO TRABALHO   \n",
       "4  DIREITO ADMINISTRATIVO E OUTRAS MATÉRIAS DE DI...   \n",
       "\n",
       "                        assunto_nivel_2                 assunto_nivel_3  \\\n",
       "0                 Partes e Procuradores                    Sucumbência    \n",
       "1  Responsabilidade Civil do Empregador      Indenizaçao por Dano Moral   \n",
       "2                         Contribuições   Contribuições Previdenciárias   \n",
       "3   Liquidação / Cumprimento / Execução  Penhora / Depósito/ Avaliação    \n",
       "4                Servidor Público Civil                   Aposentadoria   \n",
       "\n",
       "           assunto_nivel_4 assunto_nivel_5 assunto_nivel_6  \\\n",
       "0  Honorários Advocatícios             NaN             NaN   \n",
       "1     Acidente de Trabalho             NaN             NaN   \n",
       "2               Hora Extra             NaN             NaN   \n",
       "3                      NaN             NaN             NaN   \n",
       "4                      NaN             NaN             NaN   \n",
       "\n",
       "                   string_assunto_principal_3_niveis  \n",
       "0  DIREITO PROCESSUAL CIVIL E DO TRABALHO --> Par...  \n",
       "1  DIREITO DO TRABALHO --> Responsabilidade Civil...  \n",
       "2  DIREITO TRIBUTÁRIO --> Contribuições --> Contr...  \n",
       "3  DIREITO PROCESSUAL CIVIL E DO TRABALHO --> Liq...  \n",
       "4  DIREITO ADMINISTRATIVO E OUTRAS MATÉRIAS DE DI...  "
      ]
     },
     "execution_count": 222,
     "metadata": {},
     "output_type": "execute_result"
    }
   ],
   "source": [
    "df.head()"
   ]
  },
  {
   "cell_type": "code",
   "execution_count": 225,
   "metadata": {},
   "outputs": [],
   "source": [
    "df.to_csv('base_trabalho_comum.csv.zip', index=False, compression='zip')"
   ]
  },
  {
   "cell_type": "code",
   "execution_count": 6,
   "metadata": {},
   "outputs": [
    {
     "name": "stderr",
     "output_type": "stream",
     "text": [
      "/data/venv37/lib/python3.7/site-packages/IPython/core/interactiveshell.py:3072: DtypeWarning: Columns (4,7,17,28,44,45) have mixed types.Specify dtype option on import or set low_memory=False.\n",
      "  interactivity=interactivity, compiler=compiler, result=result)\n"
     ]
    }
   ],
   "source": [
    "df = pd.read_csv('base_trabalho_comum.csv.zip', compression='zip')"
   ]
  },
  {
   "cell_type": "code",
   "execution_count": 15,
   "metadata": {},
   "outputs": [],
   "source": [
    "columns_to_keep =[\n",
    "    'siglaTribunal',\n",
    "    'grau',\n",
    "    'n_dias_ate_sentenca',\n",
    "    'assunto_principal',\n",
    "    'assunto_nivel_1',\n",
    "    'assunto_nivel_2',\n",
    "    'assunto_nivel_3',\n",
    "    'dadosBasicos.orgaoJulgador.nomeOrgao',\n",
    "    'data_ajuizamento_ok','data_primeira_sentenca_ok',\n",
    "    'dadosBasicos.orgaoJulgador.codigoOrgao',\n",
    "    'dadosBasicos.numero',\n",
    "    'dadosBasicos.orgaoJulgador.codigoMunicipioIBGE'\n",
    "]"
   ]
  },
  {
   "cell_type": "code",
   "execution_count": 16,
   "metadata": {},
   "outputs": [],
   "source": [
    "df_producao = df[columns_to_keep].copy()"
   ]
  },
  {
   "cell_type": "code",
   "execution_count": 17,
   "metadata": {},
   "outputs": [],
   "source": [
    "import pickle\n",
    "\n",
    "def fix_codigo_orgao(valor):\n",
    "    try:\n",
    "        return int(valor)\n",
    "    except:\n",
    "        return -1\n",
    "    \n",
    "df.dropna(subset=['dadosBasicos.orgaoJulgador.codigoOrgao'], inplace=True)\n",
    "df['dadosBasicos.orgaoJulgador.codigoMunicipioIBGE'] = df['dadosBasicos.orgaoJulgador.codigoMunicipioIBGE'].astype(int)\n",
    "with open('data/otc.pickle', 'rb') as f:\n",
    "    otc = pickle.load(f)\n",
    "with open('data/otn.pickle', 'rb') as f:\n",
    "    otn = pickle.load(f)\n",
    "\n",
    "df['dadosBasicos.orgaoJulgador.codigoOrgao'] = df['dadosBasicos.orgaoJulgador.codigoOrgao'].apply(fix_codigo_orgao)\n",
    "\n",
    "df = df[df['dadosBasicos.orgaoJulgador.codigoOrgao'] != -1]\n",
    "\n",
    "df['dadosBasicos.orgaoJulgador.codigoMunicipioIBGE'] = df['dadosBasicos.orgaoJulgador.codigoOrgao'].replace(otc)\n",
    "df['dadosBasicos.orgaoJulgador.nomeOrgao'] = df['dadosBasicos.orgaoJulgador.codigoOrgao'].replace(otn)"
   ]
  },
  {
   "cell_type": "code",
   "execution_count": 18,
   "metadata": {},
   "outputs": [],
   "source": [
    "df_producao.to_csv('df_producao.csv', index=False)"
   ]
  },
  {
   "cell_type": "code",
   "execution_count": null,
   "metadata": {},
   "outputs": [],
   "source": []
  },
  {
   "cell_type": "code",
   "execution_count": null,
   "metadata": {},
   "outputs": [],
   "source": []
  },
  {
   "cell_type": "code",
   "execution_count": null,
   "metadata": {},
   "outputs": [],
   "source": []
  }
 ],
 "metadata": {
  "kernelspec": {
   "display_name": "virtualenv37",
   "language": "python",
   "name": "virtualenv"
  },
  "language_info": {
   "codemirror_mode": {
    "name": "ipython",
    "version": 3
   },
   "file_extension": ".py",
   "mimetype": "text/x-python",
   "name": "python",
   "nbconvert_exporter": "python",
   "pygments_lexer": "ipython3",
   "version": "3.7.7"
  }
 },
 "nbformat": 4,
 "nbformat_minor": 4
}
